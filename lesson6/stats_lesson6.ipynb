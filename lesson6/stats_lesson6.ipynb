{
  "nbformat": 4,
  "nbformat_minor": 0,
  "metadata": {
    "colab": {
      "name": "stats_lesson6.ipynb",
      "provenance": [],
      "collapsed_sections": []
    },
    "kernelspec": {
      "name": "python3",
      "display_name": "Python 3"
    },
    "language_info": {
      "name": "python"
    }
  },
  "cells": [
    {
      "cell_type": "markdown",
      "source": [
        "1. Даны значения величины заработной платы заемщиков банка (zp) и значения их поведенческого кредитного скоринга (ks):\n",
        "zp = [35, 45, 190, 200, 40, 70, 54, 150, 120, 110],\n",
        "ks = [401, 574, 874, 919, 459, 739, 653, 902, 746, 832].\n",
        "Найдите ковариацию этих двух величин с помощью элементарных действий, а затем с помощью функции cov из numpy\n",
        "Полученные значения должны быть равны.\n",
        "Найдите коэффициент корреляции Пирсона с помощью ковариации и среднеквадратичных отклонений двух признаков,\n",
        "а затем с использованием функций из библиотек numpy и pandas.\n"
      ],
      "metadata": {
        "id": "3eXelOMRWHMU"
      }
    },
    {
      "cell_type": "code",
      "source": [
        "import matplotlib.pyplot as plt\n",
        "import seaborn as sns"
      ],
      "metadata": {
        "id": "5s5i59a1Ws54"
      },
      "execution_count": 1,
      "outputs": []
    },
    {
      "cell_type": "code",
      "execution_count": 2,
      "metadata": {
        "colab": {
          "base_uri": "https://localhost:8080/"
        },
        "id": "z3Lsj8-spbuv",
        "outputId": "4023125a-049e-4898-f251-ccad1e3f68a0"
      },
      "outputs": [
        {
          "output_type": "execute_result",
          "data": {
            "text/plain": [
              "(10175.377777777778, 9157.84)"
            ]
          },
          "metadata": {},
          "execution_count": 2
        }
      ],
      "source": [
        "zp = [35, 45, 190, 200, 40, 70, 54, 150, 120, 110]\n",
        "ks = [401, 574, 874, 919, 459, 739, 653, 902, 746, 832]\n",
        "\n",
        "zp_mean = sum(zp) / len(zp)\n",
        "ks_mean = sum(ks) / len(ks)\n",
        "cov = sum([(x - zp_mean) * (y - ks_mean) for x, y in zip(zp, ks)]) / (len(zp) - 1)  # non-biased\n",
        "cov_ = sum([(x - zp_mean) * (y - ks_mean) for x, y in zip(zp, ks)]) / len(zp)  # biased\n",
        "cov, cov_"
      ]
    },
    {
      "cell_type": "code",
      "source": [
        "plt.title('Dependence between two variables')\n",
        "plt.scatter(zp, ks, alpha=0.7, ec='black', s=15)\n",
        "plt.grid()\n",
        "plt.show()"
      ],
      "metadata": {
        "colab": {
          "base_uri": "https://localhost:8080/",
          "height": 281
        },
        "id": "J6TPgtZzXONB",
        "outputId": "ec465dca-8181-4339-e8f7-9f437c71cf87"
      },
      "execution_count": 16,
      "outputs": [
        {
          "output_type": "display_data",
          "data": {
            "image/png": "[encoded data removed]",
            "text/plain": [
              "<Figure size 432x288 with 1 Axes>"
            ]
          },
          "metadata": {
            "needs_background": "light"
          }
        }
      ]
    },
    {
      "cell_type": "code",
      "source": [
        "import numpy as np\n",
        "\n",
        "np.cov(zp, ks, ddof=1)[0, 1], np.cov(zp, ks, ddof=0)[0,1]"
      ],
      "metadata": {
        "colab": {
          "base_uri": "https://localhost:8080/"
        },
        "id": "kiWZIYrhgsR4",
        "outputId": "0415ac96-5a1f-45b7-af51-5519bb6deae7"
      },
      "execution_count": 3,
      "outputs": [
        {
          "output_type": "execute_result",
          "data": {
            "text/plain": [
              "(10175.377777777776, 9157.84)"
            ]
          },
          "metadata": {},
          "execution_count": 3
        }
      ]
    },
    {
      "cell_type": "code",
      "source": [
        "# sigma for zp and ks\n",
        "sig_cov_zp = (sum([(x - zp_mean)**2 for x in zp]) / (len(zp) - 1))**0.5 # non-biased\n",
        "sig_cov_ks = (sum([(x - ks_mean)**2 for x in ks]) / (len(ks) - 1))**0.5 # non-biased\n",
        "sig_cov_zp_ = (sum([(x - zp_mean)**2 for x in zp]) / len(zp))**0.5 # biased\n",
        "sig_cov_ks_ = (sum([(x - ks_mean)**2 for x in ks]) / len(ks))**0.5 # biased\n",
        "sig_cov_zp, sig_cov_ks"
      ],
      "metadata": {
        "colab": {
          "base_uri": "https://localhost:8080/"
        },
        "id": "hV0GtDbThWDY",
        "outputId": "c44711a4-7e6b-48b9-cb9b-0a217455636a"
      },
      "execution_count": 4,
      "outputs": [
        {
          "output_type": "execute_result",
          "data": {
            "text/plain": [
              "(62.31318747531162, 183.99544076477068)"
            ]
          },
          "metadata": {},
          "execution_count": 4
        }
      ]
    },
    {
      "cell_type": "code",
      "source": [
        "# pearson coefs\n",
        "pearson_coef = cov / (sig_cov_zp * sig_cov_ks)\n",
        "pearson_coef_ = cov_ / (sig_cov_zp_ * sig_cov_ks_)\n",
        "pearson_coef, pearson_coef_"
      ],
      "metadata": {
        "colab": {
          "base_uri": "https://localhost:8080/"
        },
        "id": "BvNXkE-Wip84",
        "outputId": "3771e33a-3229-45fb-a0a7-d35ab85d02b8"
      },
      "execution_count": 5,
      "outputs": [
        {
          "output_type": "execute_result",
          "data": {
            "text/plain": [
              "(0.8874900920739162, 0.8874900920739162)"
            ]
          },
          "metadata": {},
          "execution_count": 5
        }
      ]
    },
    {
      "cell_type": "code",
      "source": [
        "# with numpy\n",
        "(np.cov(zp, ks, ddof=1) / (np.array(zp).std(ddof=1) * np.array(ks).std(ddof=1)))[0,1]"
      ],
      "metadata": {
        "colab": {
          "base_uri": "https://localhost:8080/"
        },
        "id": "PvTSVAnWjBSA",
        "outputId": "5398741d-2e4b-4cd4-dd14-f55748a53f37"
      },
      "execution_count": 6,
      "outputs": [
        {
          "output_type": "execute_result",
          "data": {
            "text/plain": [
              "0.887490092073916"
            ]
          },
          "metadata": {},
          "execution_count": 6
        }
      ]
    },
    {
      "cell_type": "code",
      "source": [
        "# with numpy corrcoef\n",
        "np.corrcoef(zp, ks)[0, 1]"
      ],
      "metadata": {
        "colab": {
          "base_uri": "https://localhost:8080/"
        },
        "id": "hVrOkVqAkH77",
        "outputId": "4e24e5cf-d26d-4aff-9087-f99638d74409"
      },
      "execution_count": 7,
      "outputs": [
        {
          "output_type": "execute_result",
          "data": {
            "text/plain": [
              "0.8874900920739162"
            ]
          },
          "metadata": {},
          "execution_count": 7
        }
      ]
    },
    {
      "cell_type": "code",
      "source": [
        "# with pandas\n",
        "import pandas as pd\n",
        "\n",
        "pd.DataFrame(np.stack([zp, ks], axis=1)).corr()"
      ],
      "metadata": {
        "colab": {
          "base_uri": "https://localhost:8080/",
          "height": 112
        },
        "id": "ERxCsrYtjbgo",
        "outputId": "e8121fc6-2c56-4d56-a3f3-ed296c716d7f"
      },
      "execution_count": 8,
      "outputs": [
        {
          "output_type": "execute_result",
          "data": {
            "text/html": [
              "\n",
              "  <div id=\"df-d636cffc-5908-4cc6-bcf4-83879c6e7473\">\n",
              "    <div class=\"colab-df-container\">\n",
              "      <div>\n",
              "<style scoped>\n",
              "    .dataframe tbody tr th:only-of-type {\n",
              "        vertical-align: middle;\n",
              "    }\n",
              "\n",
              "    .dataframe tbody tr th {\n",
              "        vertical-align: top;\n",
              "    }\n",
              "\n",
              "    .dataframe thead th {\n",
              "        text-align: right;\n",
              "    }\n",
              "</style>\n",
              "<table border=\"1\" class=\"dataframe\">\n",
              "  <thead>\n",
              "    <tr style=\"text-align: right;\">\n",
              "      <th></th>\n",
              "      <th>0</th>\n",
              "      <th>1</th>\n",
              "    </tr>\n",
              "  </thead>\n",
              "  <tbody>\n",
              "    <tr>\n",
              "      <th>0</th>\n",
              "      <td>1.00000</td>\n",
              "      <td>0.88749</td>\n",
              "    </tr>\n",
              "    <tr>\n",
              "      <th>1</th>\n",
              "      <td>0.88749</td>\n",
              "      <td>1.00000</td>\n",
              "    </tr>\n",
              "  </tbody>\n",
              "</table>\n",
              "</div>\n",
              "      <button class=\"colab-df-convert\" onclick=\"convertToInteractive('df-d636cffc-5908-4cc6-bcf4-83879c6e7473')\"\n",
              "              title=\"Convert this dataframe to an interactive table.\"\n",
              "              style=\"display:none;\">\n",
              "        \n",
              "  <svg xmlns=\"http://www.w3.org/2000/svg\" height=\"24px\"viewBox=\"0 0 24 24\"\n",
              "       width=\"24px\">\n",
              "    <path d=\"M0 0h24v24H0V0z\" fill=\"none\"/>\n",
              "    <path d=\"M18.56 5.44l.94 2.06.94-2.06 2.06-.94-2.06-.94-.94-2.06-.94 2.06-2.06.94zm-11 1L8.5 8.5l.94-2.06 2.06-.94-2.06-.94L8.5 2.5l-.94 2.06-2.06.94zm10 10l.94 2.06.94-2.06 2.06-.94-2.06-.94-.94-2.06-.94 2.06-2.06.94z\"/><path d=\"M17.41 7.96l-1.37-1.37c-.4-.4-.92-.59-1.43-.59-.52 0-1.04.2-1.43.59L10.3 9.45l-7.72 7.72c-.78.78-.78 2.05 0 2.83L4 21.41c.39.39.9.59 1.41.59.51 0 1.02-.2 1.41-.59l7.78-7.78 2.81-2.81c.8-.78.8-2.07 0-2.86zM5.41 20L4 18.59l7.72-7.72 1.47 1.35L5.41 20z\"/>\n",
              "  </svg>\n",
              "      </button>\n",
              "      \n",
              "  <style>\n",
              "    .colab-df-container {\n",
              "      display:flex;\n",
              "      flex-wrap:wrap;\n",
              "      gap: 12px;\n",
              "    }\n",
              "\n",
              "    .colab-df-convert {\n",
              "      background-color: #E8F0FE;\n",
              "      border: none;\n",
              "      border-radius: 50%;\n",
              "      cursor: pointer;\n",
              "      display: none;\n",
              "      fill: #1967D2;\n",
              "      height: 32px;\n",
              "      padding: 0 0 0 0;\n",
              "      width: 32px;\n",
              "    }\n",
              "\n",
              "    .colab-df-convert:hover {\n",
              "      background-color: #E2EBFA;\n",
              "      box-shadow: 0px 1px 2px rgba(60, 64, 67, 0.3), 0px 1px 3px 1px rgba(60, 64, 67, 0.15);\n",
              "      fill: #174EA6;\n",
              "    }\n",
              "\n",
              "    [theme=dark] .colab-df-convert {\n",
              "      background-color: #3B4455;\n",
              "      fill: #D2E3FC;\n",
              "    }\n",
              "\n",
              "    [theme=dark] .colab-df-convert:hover {\n",
              "      background-color: #434B5C;\n",
              "      box-shadow: 0px 1px 3px 1px rgba(0, 0, 0, 0.15);\n",
              "      filter: drop-shadow(0px 1px 2px rgba(0, 0, 0, 0.3));\n",
              "      fill: #FFFFFF;\n",
              "    }\n",
              "  </style>\n",
              "\n",
              "      <script>\n",
              "        const buttonEl =\n",
              "          document.querySelector('#df-d636cffc-5908-4cc6-bcf4-83879c6e7473 button.colab-df-convert');\n",
              "        buttonEl.style.display =\n",
              "          google.colab.kernel.accessAllowed ? 'block' : 'none';\n",
              "\n",
              "        async function convertToInteractive(key) {\n",
              "          const element = document.querySelector('#df-d636cffc-5908-4cc6-bcf4-83879c6e7473');\n",
              "          const dataTable =\n",
              "            await google.colab.kernel.invokeFunction('convertToInteractive',\n",
              "                                                     [key], {});\n",
              "          if (!dataTable) return;\n",
              "\n",
              "          const docLinkHtml = 'Like what you see? Visit the ' +\n",
              "            '<a target=\"_blank\" href=https://colab.research.google.com/notebooks/data_table.ipynb>data table notebook</a>'\n",
              "            + ' to learn more about interactive tables.';\n",
              "          element.innerHTML = '';\n",
              "          dataTable['output_type'] = 'display_data';\n",
              "          await google.colab.output.renderOutput(dataTable, element);\n",
              "          const docLink = document.createElement('div');\n",
              "          docLink.innerHTML = docLinkHtml;\n",
              "          element.appendChild(docLink);\n",
              "        }\n",
              "      </script>\n",
              "    </div>\n",
              "  </div>\n",
              "  "
            ],
            "text/plain": [
              "         0        1\n",
              "0  1.00000  0.88749\n",
              "1  0.88749  1.00000"
            ]
          },
          "metadata": {},
          "execution_count": 8
        }
      ]
    },
    {
      "cell_type": "code",
      "source": [
        "# relationship between zp and ks may be not linear according to scatter plot\n",
        "# computing kendall correlation just for practice as an exercise\n",
        "\n",
        "from itertools import combinations\n",
        "\n",
        "def is_concordant(pair1: tuple, pair2: tuple) -> bool:\n",
        "    return (pair1[0] - pair2[0]) * (pair1[1] - pair2[1]) > 0\n",
        "\n",
        "P = 0\n",
        "Q = 0\n",
        "\n",
        "for pair1, pair2 in combinations(zip(zp, ks), r=2):\n",
        "    if is_concordant(pair1, pair2):\n",
        "        P += 1\n",
        "    else:\n",
        "        Q += 1\n",
        "\n",
        "assert len(set(ks)) == len(set(zp)), 'lists should contain unique values'\n",
        "\n",
        "tau = (P - Q) / (P + Q)\n",
        "tau"
      ],
      "metadata": {
        "colab": {
          "base_uri": "https://localhost:8080/"
        },
        "id": "6yq5lsDJknLu",
        "outputId": "01a46ad2-e624-4a71-aa17-1ffaa25a3315"
      },
      "execution_count": 17,
      "outputs": [
        {
          "output_type": "execute_result",
          "data": {
            "text/plain": [
              "0.9111111111111111"
            ]
          },
          "metadata": {},
          "execution_count": 17
        }
      ]
    },
    {
      "cell_type": "code",
      "source": [
        "pd.DataFrame({'zp': zp, 'ks': ks}).corr(method='kendall')"
      ],
      "metadata": {
        "colab": {
          "base_uri": "https://localhost:8080/",
          "height": 112
        },
        "id": "8nLWDAYZlUML",
        "outputId": "840e0c9b-a26f-44fe-a98f-39b8e83f1a1e"
      },
      "execution_count": 18,
      "outputs": [
        {
          "output_type": "execute_result",
          "data": {
            "text/html": [
              "\n",
              "  <div id=\"df-3db0ee24-9550-40fa-814b-5b6c684c26f1\">\n",
              "    <div class=\"colab-df-container\">\n",
              "      <div>\n",
              "<style scoped>\n",
              "    .dataframe tbody tr th:only-of-type {\n",
              "        vertical-align: middle;\n",
              "    }\n",
              "\n",
              "    .dataframe tbody tr th {\n",
              "        vertical-align: top;\n",
              "    }\n",
              "\n",
              "    .dataframe thead th {\n",
              "        text-align: right;\n",
              "    }\n",
              "</style>\n",
              "<table border=\"1\" class=\"dataframe\">\n",
              "  <thead>\n",
              "    <tr style=\"text-align: right;\">\n",
              "      <th></th>\n",
              "      <th>zp</th>\n",
              "      <th>ks</th>\n",
              "    </tr>\n",
              "  </thead>\n",
              "  <tbody>\n",
              "    <tr>\n",
              "      <th>zp</th>\n",
              "      <td>1.000000</td>\n",
              "      <td>0.911111</td>\n",
              "    </tr>\n",
              "    <tr>\n",
              "      <th>ks</th>\n",
              "      <td>0.911111</td>\n",
              "      <td>1.000000</td>\n",
              "    </tr>\n",
              "  </tbody>\n",
              "</table>\n",
              "</div>\n",
              "      <button class=\"colab-df-convert\" onclick=\"convertToInteractive('df-3db0ee24-9550-40fa-814b-5b6c684c26f1')\"\n",
              "              title=\"Convert this dataframe to an interactive table.\"\n",
              "              style=\"display:none;\">\n",
              "        \n",
              "  <svg xmlns=\"http://www.w3.org/2000/svg\" height=\"24px\"viewBox=\"0 0 24 24\"\n",
              "       width=\"24px\">\n",
              "    <path d=\"M0 0h24v24H0V0z\" fill=\"none\"/>\n",
              "    <path d=\"M18.56 5.44l.94 2.06.94-2.06 2.06-.94-2.06-.94-.94-2.06-.94 2.06-2.06.94zm-11 1L8.5 8.5l.94-2.06 2.06-.94-2.06-.94L8.5 2.5l-.94 2.06-2.06.94zm10 10l.94 2.06.94-2.06 2.06-.94-2.06-.94-.94-2.06-.94 2.06-2.06.94z\"/><path d=\"M17.41 7.96l-1.37-1.37c-.4-.4-.92-.59-1.43-.59-.52 0-1.04.2-1.43.59L10.3 9.45l-7.72 7.72c-.78.78-.78 2.05 0 2.83L4 21.41c.39.39.9.59 1.41.59.51 0 1.02-.2 1.41-.59l7.78-7.78 2.81-2.81c.8-.78.8-2.07 0-2.86zM5.41 20L4 18.59l7.72-7.72 1.47 1.35L5.41 20z\"/>\n",
              "  </svg>\n",
              "      </button>\n",
              "      \n",
              "  <style>\n",
              "    .colab-df-container {\n",
              "      display:flex;\n",
              "      flex-wrap:wrap;\n",
              "      gap: 12px;\n",
              "    }\n",
              "\n",
              "    .colab-df-convert {\n",
              "      background-color: #E8F0FE;\n",
              "      border: none;\n",
              "      border-radius: 50%;\n",
              "      cursor: pointer;\n",
              "      display: none;\n",
              "      fill: #1967D2;\n",
              "      height: 32px;\n",
              "      padding: 0 0 0 0;\n",
              "      width: 32px;\n",
              "    }\n",
              "\n",
              "    .colab-df-convert:hover {\n",
              "      background-color: #E2EBFA;\n",
              "      box-shadow: 0px 1px 2px rgba(60, 64, 67, 0.3), 0px 1px 3px 1px rgba(60, 64, 67, 0.15);\n",
              "      fill: #174EA6;\n",
              "    }\n",
              "\n",
              "    [theme=dark] .colab-df-convert {\n",
              "      background-color: #3B4455;\n",
              "      fill: #D2E3FC;\n",
              "    }\n",
              "\n",
              "    [theme=dark] .colab-df-convert:hover {\n",
              "      background-color: #434B5C;\n",
              "      box-shadow: 0px 1px 3px 1px rgba(0, 0, 0, 0.15);\n",
              "      filter: drop-shadow(0px 1px 2px rgba(0, 0, 0, 0.3));\n",
              "      fill: #FFFFFF;\n",
              "    }\n",
              "  </style>\n",
              "\n",
              "      <script>\n",
              "        const buttonEl =\n",
              "          document.querySelector('#df-3db0ee24-9550-40fa-814b-5b6c684c26f1 button.colab-df-convert');\n",
              "        buttonEl.style.display =\n",
              "          google.colab.kernel.accessAllowed ? 'block' : 'none';\n",
              "\n",
              "        async function convertToInteractive(key) {\n",
              "          const element = document.querySelector('#df-3db0ee24-9550-40fa-814b-5b6c684c26f1');\n",
              "          const dataTable =\n",
              "            await google.colab.kernel.invokeFunction('convertToInteractive',\n",
              "                                                     [key], {});\n",
              "          if (!dataTable) return;\n",
              "\n",
              "          const docLinkHtml = 'Like what you see? Visit the ' +\n",
              "            '<a target=\"_blank\" href=https://colab.research.google.com/notebooks/data_table.ipynb>data table notebook</a>'\n",
              "            + ' to learn more about interactive tables.';\n",
              "          element.innerHTML = '';\n",
              "          dataTable['output_type'] = 'display_data';\n",
              "          await google.colab.output.renderOutput(dataTable, element);\n",
              "          const docLink = document.createElement('div');\n",
              "          docLink.innerHTML = docLinkHtml;\n",
              "          element.appendChild(docLink);\n",
              "        }\n",
              "      </script>\n",
              "    </div>\n",
              "  </div>\n",
              "  "
            ],
            "text/plain": [
              "          zp        ks\n",
              "zp  1.000000  0.911111\n",
              "ks  0.911111  1.000000"
            ]
          },
          "metadata": {},
          "execution_count": 18
        }
      ]
    },
    {
      "cell_type": "markdown",
      "source": [
        "2. Измерены значения IQ выборки студентов,\n",
        "обучающихся в местных технических вузах:\n",
        "131, 125, 115, 122, 131, 115, 107, 99, 125, 111.\n",
        "Известно, что в генеральной совокупности IQ распределен нормально.\n",
        "Найдите доверительный интервал для математического ожидания с надежностью 0.95.\n"
      ],
      "metadata": {
        "id": "v1Xr0AksZs6r"
      }
    },
    {
      "cell_type": "code",
      "source": [
        "# calculating confidence intervals\n",
        "from scipy import stats\n",
        "\n",
        "students_iq = np.array([131, 125, 115, 122, 131, 115, 107, 99, 125, 111])\n",
        "\n",
        "alpha = 0.05\n",
        "n = students_iq.shape[0]\n",
        "t1 = stats.t.ppf(alpha / 2, df=n-1)\n",
        "t2 = stats.t.ppf(1 - alpha / 2, df=n-1)\n",
        "sigma = students_iq.std(ddof=1)\n",
        "\n",
        "students_iq.mean() + t1 * sigma / np.sqrt(n), students_iq.mean() + t2 * sigma / np.sqrt(n) "
      ],
      "metadata": {
        "colab": {
          "base_uri": "https://localhost:8080/"
        },
        "id": "BKrvJEEhmuIa",
        "outputId": "a85a1958-7e69-477d-b0bc-59462cbf679f"
      },
      "execution_count": 20,
      "outputs": [
        {
          "output_type": "execute_result",
          "data": {
            "text/plain": [
              "(110.55608365158724, 125.64391634841274)"
            ]
          },
          "metadata": {},
          "execution_count": 20
        }
      ]
    },
    {
      "cell_type": "code",
      "source": [
        "# width of CI\n",
        "(students_iq.mean() + t2 * sigma / np.sqrt(n)) - (students_iq.mean() + t1 * sigma / np.sqrt(n)) "
      ],
      "metadata": {
        "colab": {
          "base_uri": "https://localhost:8080/"
        },
        "id": "hAdDiM-Nx841",
        "outputId": "eb2e9cb3-8104-42d3-d2bf-1befd69b570a"
      },
      "execution_count": 21,
      "outputs": [
        {
          "output_type": "execute_result",
          "data": {
            "text/plain": [
              "15.087832696825501"
            ]
          },
          "metadata": {},
          "execution_count": 21
        }
      ]
    },
    {
      "cell_type": "code",
      "source": [
        "# found expected value (mu)\n",
        "t = stats.ttest_1samp(students_iq, popmean=118.1)\n",
        "t"
      ],
      "metadata": {
        "colab": {
          "base_uri": "https://localhost:8080/"
        },
        "id": "fDv-SvazsZgU",
        "outputId": "de5ca56f-4471-42e2-f8cc-a9b221712abe"
      },
      "execution_count": 22,
      "outputs": [
        {
          "output_type": "execute_result",
          "data": {
            "text/plain": [
              "Ttest_1sampResult(statistic=0.0, pvalue=1.0)"
            ]
          },
          "metadata": {},
          "execution_count": 22
        }
      ]
    },
    {
      "cell_type": "code",
      "source": [
        "# CI with scipy\n",
        "from scipy.stats import sem\n",
        "\n",
        "stats.t.interval(0.95, len(students_iq) - 1, loc=np.mean(students_iq), scale=sem(students_iq)) "
      ],
      "metadata": {
        "colab": {
          "base_uri": "https://localhost:8080/"
        },
        "id": "adPQCxH5tlzU",
        "outputId": "1084e0da-87e9-429d-dd25-aa574135088d"
      },
      "execution_count": 23,
      "outputs": [
        {
          "output_type": "execute_result",
          "data": {
            "text/plain": [
              "(110.55608365158724, 125.64391634841274)"
            ]
          },
          "metadata": {},
          "execution_count": 23
        }
      ]
    },
    {
      "cell_type": "code",
      "source": [
        "import matplotlib.pyplot as plt\n",
        "import seaborn as sns\n",
        "from scipy.stats import probplot, shapiro\n",
        "\n",
        "ox = np.linspace(-4, 4, 500)\n",
        "oy = stats.t.pdf(ox, df=n - 1)\n",
        "\n",
        "ox_left = np.linspace(-4, t1, 100)\n",
        "oy_left = stats.t.pdf(ox_left, df=n - 1)\n",
        "\n",
        "ox_right = np.linspace(t2, 4, 100)\n",
        "oy_right = stats.t.pdf(ox_right, df=n - 1)\n",
        "\n",
        "plt.figure(figsize=(18, 5))\n",
        "plt.subplot(131)\n",
        "plt.title('Statistic distribution')\n",
        "plt.plot(ox, oy)\n",
        "plt.axvline(t[0], c='r', ls='--', lw=2, label='test for mu = 118.1')\n",
        "plt.fill_between(ox_left, oy_left, alpha=0.5, color='C0')\n",
        "plt.fill_between(ox_right, oy_right, alpha=0.5, color='C0')\n",
        "plt.grid()\n",
        "plt.legend()\n",
        "plt.subplot(132)\n",
        "plt.title('Confidence interval')\n",
        "sns.pointplot(data=students_iq, capsize=.1)\n",
        "plt.subplot(133)\n",
        "probplot(students_iq, dist='norm', plot=plt)\n",
        "plt.subplots_adjust(hspace=0.4, wspace=0.4)\n",
        "plt.show()\n",
        "print('Normal distribution' if shapiro(students_iq)[1] > alpha else 'Not normal distribution')"
      ],
      "metadata": {
        "colab": {
          "base_uri": "https://localhost:8080/",
          "height": 367
        },
        "id": "rfnpyWG1rKs3",
        "outputId": "a389ffac-ba56-433e-87ae-37154d656683"
      },
      "execution_count": 30,
      "outputs": [
        {
          "output_type": "display_data",
          "data": {
            "image/png": "[encoded data removed]",
            "text/plain": [
              "<Figure size 1296x360 with 3 Axes>"
            ]
          },
          "metadata": {
            "needs_background": "light"
          }
        },
        {
          "output_type": "stream",
          "name": "stdout",
          "text": [
            "Normal distribution\n"
          ]
        }
      ]
    },
    {
      "cell_type": "markdown",
      "source": [
        "3. Известно, что рост футболистов в сборной распределен нормально\n",
        "с дисперсией генеральной совокупности, равной 25 кв.см. Объем выборки равен 27,\n",
        "среднее выборочное составляет 174.2. Найдите доверительный интервал для математического\n",
        "ожидания с надежностью 0.95.\n"
      ],
      "metadata": {
        "id": "ATxr01n4xvo7"
      }
    },
    {
      "cell_type": "code",
      "source": [
        "popmean = 174.2\n",
        "n = 27\n",
        "p = 0.95\n",
        "alpha = 1 - p\n",
        "d = 25\n",
        "sigma = np.sqrt(d)\n",
        "\n",
        "t1 = stats.norm.ppf(alpha / 2)\n",
        "t2 = stats.norm.ppf(1 - alpha / 2)\n",
        "\n",
        "(popmean + t2 * sigma / np.sqrt(n)), (popmean + t1 * sigma / np.sqrt(n)) "
      ],
      "metadata": {
        "colab": {
          "base_uri": "https://localhost:8080/"
        },
        "id": "0D3bAPc8xtBu",
        "outputId": "a5806821-c3d6-4e9b-a106-7c5852a9a731"
      },
      "execution_count": 31,
      "outputs": [
        {
          "output_type": "execute_result",
          "data": {
            "text/plain": [
              "(176.08597622346028, 172.3140237765397)"
            ]
          },
          "metadata": {},
          "execution_count": 31
        }
      ]
    },
    {
      "cell_type": "markdown",
      "source": [
        "К задаче 1"
      ],
      "metadata": {
        "id": "Jbdx-UY1d0YI"
      }
    },
    {
      "cell_type": "markdown",
      "source": [
        "Проведите тест на значимость коэффициента корреляции Пирсона, найденного в предыдущей задаче. Что для этого нужно знать:\n",
        "* Нулевая гипотеза: реальный коэффициент корреляции равен 0. Альтернативная гипотеза двухсторонняя.\n",
        "* Статистика: `t = r * sqrt(n - 2) / sqrt(1 - r ** 2)`, где `r` - коэффициент корреляции Пирсона, посчитанный по выборке.\n",
        "* В предположении верности нулевой гипотезы эта статистика имеет распределение Стьюдента с параметром `df = n - 2`.\n",
        "\n",
        "В качестве ответа запишите 1, если нулевая гипотеза верна, и 0 иначе."
      ],
      "metadata": {
        "id": "Hg3504Ihz794"
      }
    },
    {
      "cell_type": "code",
      "source": [
        "coef = 0\n",
        "alpha = 0.05\n",
        "\n",
        "t = pearson_coef * np.sqrt(len(ks) - 2) / np.sqrt(1 - pearson_coef ** 2)\n",
        "\n",
        "t1 = stats.t.ppf(alpha/2, df=len(ks)-2)\n",
        "t2 = stats.t.ppf(1-alpha/2, df=len(ks)-2)\n",
        "\n",
        "ox = np.linspace(-6, 6, 500)\n",
        "oy = stats.t.pdf(ox, df=len(ks)-2)\n",
        "\n",
        "ox_left = np.linspace(-6, t1, 100)\n",
        "oy_left = stats.t.pdf(ox_left, df=len(ks)-2)\n",
        "\n",
        "ox_right = np.linspace(t2, 6, 100)\n",
        "oy_right = stats.t.pdf(ox_right, df=len(ks)-2)\n",
        "\n",
        "plt.figure(figsize=(7,4))\n",
        "plt.plot(ox, oy)\n",
        "plt.axvline(t, ls='--', lw=1.5, c='r')\n",
        "hyp = 'The H_0 is true' if t < t2 and t > t1 else 'H_1 is true'\n",
        "plt.title(hyp)\n",
        "plt.fill_between(ox_left, oy_left, alpha=0.5, color='C0')\n",
        "plt.fill_between(ox_right, oy_right, alpha=0.5, color='C0')\n",
        "plt.xlabel('Statistic values')\n",
        "plt.ylabel('Density function')\n",
        "plt.grid()\n",
        "plt.show()\n",
        "\n",
        "print(1 if t > t1 and t < t2 else 0)"
      ],
      "metadata": {
        "colab": {
          "base_uri": "https://localhost:8080/",
          "height": 312
        },
        "id": "XoZWf6mnzQte",
        "outputId": "b510785c-98f9-4020-f5c8-5d713b0e6cdf"
      },
      "execution_count": 32,
      "outputs": [
        {
          "output_type": "display_data",
          "data": {
            "image/png": "[encoded data removed]",
            "text/plain": [
              "<Figure size 504x288 with 1 Axes>"
            ]
          },
          "metadata": {
            "needs_background": "light"
          }
        },
        {
          "output_type": "stream",
          "name": "stdout",
          "text": [
            "0\n"
          ]
        }
      ]
    },
    {
      "cell_type": "code",
      "source": [
        "p_left = stats.t.cdf(t, df=len(ks)-2)\n",
        "p_right = 1 - stats.t.cdf(t, df=len(ks)-2)\n",
        "\n",
        "pvalue = 2 * min(p_left, p_right)\n",
        "\n",
        "print(f'P-value for test: {pvalue:4f}')\n",
        "print(f'H_0 is true' if pvalue > alpha else 'H_1 is true, H_0 rejected')"
      ],
      "metadata": {
        "colab": {
          "base_uri": "https://localhost:8080/"
        },
        "id": "rQ44iak410sg",
        "outputId": "e7ac9d5e-66c4-4d08-bd8d-94a3ea98f6c8"
      },
      "execution_count": 33,
      "outputs": [
        {
          "output_type": "stream",
          "name": "stdout",
          "text": [
            "P-value for test: 0.000611\n",
            "H_1 is true, H_0 rejected\n"
          ]
        }
      ]
    },
    {
      "cell_type": "markdown",
      "source": [
        "4. Выберите тему для проектной работы по курсу Теории вероятностей и математической статистики\n",
        "и напишите ее в комментарии к Практическому заданию.\n"
      ],
      "metadata": {
        "id": "FMD57sWO3BCD"
      }
    },
    {
      "cell_type": "markdown",
      "source": [
        "Не уверен, что наличие проектной работы в интерактивном курсе является чем-то естесственным, но если она действительно предусмотрена, то буду работать с датасетом, выгруженным мной с auto.ru, где буду использовать полученные навыки для поиска выбросов, оценки важности признаков, статистической значимости модели регресии и т.п."
      ],
      "metadata": {
        "id": "Gobp5S923CHg"
      }
    }
  ]
}