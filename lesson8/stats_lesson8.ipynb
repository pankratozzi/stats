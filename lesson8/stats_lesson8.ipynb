{
  "nbformat": 4,
  "nbformat_minor": 0,
  "metadata": {
    "colab": {
      "name": "stats_lesson8.ipynb",
      "provenance": [],
      "collapsed_sections": []
    },
    "kernelspec": {
      "name": "python3",
      "display_name": "Python 3"
    },
    "language_info": {
      "name": "python"
    }
  },
  "cells": [
    {
      "cell_type": "code",
      "execution_count": 1,
      "metadata": {
        "colab": {
          "base_uri": "https://localhost:8080/"
        },
        "id": "FOT8uGsgPb9l",
        "outputId": "06d6043e-abc7-4f09-d6bf-d3acce5e1a96"
      },
      "outputs": [
        {
          "output_type": "stream",
          "name": "stdout",
          "text": [
            "Mounted at /content/drive\n"
          ]
        }
      ],
      "source": [
        "from google.colab import drive\n",
        "drive.mount('/content/drive')"
      ]
    },
    {
      "cell_type": "code",
      "source": [
        "import numpy as np\n",
        "import pandas as pd\n",
        "import matplotlib.pyplot as plt\n",
        "from scipy import stats"
      ],
      "metadata": {
        "id": "9GX4suxlPjNg"
      },
      "execution_count": 2,
      "outputs": []
    },
    {
      "cell_type": "code",
      "source": [
        "np.random.seed(1)\n",
        "data_root = r'/content/drive/My Drive/data/hockey_players.csv'"
      ],
      "metadata": {
        "id": "NW9ZehtnPzNm"
      },
      "execution_count": 3,
      "outputs": []
    },
    {
      "cell_type": "code",
      "source": [
        "df = pd.read_csv(data_root, encoding='latin-1', sep=',')\n",
        "df.sample(5)"
      ],
      "metadata": {
        "colab": {
          "base_uri": "https://localhost:8080/",
          "height": 206
        },
        "id": "bhqx_sWFPwa3",
        "outputId": "0fc1ee02-3908-4907-81d8-0cf256e6fbfd"
      },
      "execution_count": 4,
      "outputs": [
        {
          "output_type": "execute_result",
          "data": {
            "text/html": [
              "\n",
              "  <div id=\"df-cacc6cda-a4ad-4c2e-839c-3906a9775854\">\n",
              "    <div class=\"colab-df-container\">\n",
              "      <div>\n",
              "<style scoped>\n",
              "    .dataframe tbody tr th:only-of-type {\n",
              "        vertical-align: middle;\n",
              "    }\n",
              "\n",
              "    .dataframe tbody tr th {\n",
              "        vertical-align: top;\n",
              "    }\n",
              "\n",
              "    .dataframe thead th {\n",
              "        text-align: right;\n",
              "    }\n",
              "</style>\n",
              "<table border=\"1\" class=\"dataframe\">\n",
              "  <thead>\n",
              "    <tr style=\"text-align: right;\">\n",
              "      <th></th>\n",
              "      <th>year</th>\n",
              "      <th>country</th>\n",
              "      <th>no</th>\n",
              "      <th>name</th>\n",
              "      <th>position</th>\n",
              "      <th>side</th>\n",
              "      <th>height</th>\n",
              "      <th>weight</th>\n",
              "      <th>birth</th>\n",
              "      <th>club</th>\n",
              "      <th>age</th>\n",
              "      <th>cohort</th>\n",
              "      <th>bmi</th>\n",
              "    </tr>\n",
              "  </thead>\n",
              "  <tbody>\n",
              "    <tr>\n",
              "      <th>4574</th>\n",
              "      <td>2012</td>\n",
              "      <td>LAT</td>\n",
              "      <td>9</td>\n",
              "      <td>bukarts roberts</td>\n",
              "      <td>F</td>\n",
              "      <td>L</td>\n",
              "      <td>183</td>\n",
              "      <td>88.0</td>\n",
              "      <td>1990-06-27</td>\n",
              "      <td>dinamo riga</td>\n",
              "      <td>21.845311</td>\n",
              "      <td>1990</td>\n",
              "      <td>26.277285</td>\n",
              "    </tr>\n",
              "    <tr>\n",
              "      <th>5272</th>\n",
              "      <td>2014</td>\n",
              "      <td>GER</td>\n",
              "      <td>2</td>\n",
              "      <td>reul denis</td>\n",
              "      <td>D</td>\n",
              "      <td>R</td>\n",
              "      <td>193</td>\n",
              "      <td>106.0</td>\n",
              "      <td>1989-06-29</td>\n",
              "      <td>adler mannheim</td>\n",
              "      <td>24.837782</td>\n",
              "      <td>1989</td>\n",
              "      <td>28.457140</td>\n",
              "    </tr>\n",
              "    <tr>\n",
              "      <th>3626</th>\n",
              "      <td>2010</td>\n",
              "      <td>DEN</td>\n",
              "      <td>33</td>\n",
              "      <td>jakobsen julian</td>\n",
              "      <td>F</td>\n",
              "      <td>L</td>\n",
              "      <td>183</td>\n",
              "      <td>82.0</td>\n",
              "      <td>1987-04-11</td>\n",
              "      <td>sodertalje sk</td>\n",
              "      <td>23.055441</td>\n",
              "      <td>1987</td>\n",
              "      <td>24.485652</td>\n",
              "    </tr>\n",
              "    <tr>\n",
              "      <th>3635</th>\n",
              "      <td>2010</td>\n",
              "      <td>DEN</td>\n",
              "      <td>84</td>\n",
              "      <td>hirsch peter</td>\n",
              "      <td>G</td>\n",
              "      <td>L</td>\n",
              "      <td>182</td>\n",
              "      <td>78.0</td>\n",
              "      <td>1979-03-06</td>\n",
              "      <td>coventry blaze</td>\n",
              "      <td>31.154004</td>\n",
              "      <td>1979</td>\n",
              "      <td>23.547881</td>\n",
              "    </tr>\n",
              "    <tr>\n",
              "      <th>3684</th>\n",
              "      <td>2010</td>\n",
              "      <td>FRA</td>\n",
              "      <td>42</td>\n",
              "      <td>lhenry fabrice</td>\n",
              "      <td>G</td>\n",
              "      <td>L</td>\n",
              "      <td>180</td>\n",
              "      <td>83.0</td>\n",
              "      <td>1972-06-29</td>\n",
              "      <td>rouen dragons</td>\n",
              "      <td>37.837098</td>\n",
              "      <td>1972</td>\n",
              "      <td>25.617284</td>\n",
              "    </tr>\n",
              "  </tbody>\n",
              "</table>\n",
              "</div>\n",
              "      <button class=\"colab-df-convert\" onclick=\"convertToInteractive('df-cacc6cda-a4ad-4c2e-839c-3906a9775854')\"\n",
              "              title=\"Convert this dataframe to an interactive table.\"\n",
              "              style=\"display:none;\">\n",
              "        \n",
              "  <svg xmlns=\"http://www.w3.org/2000/svg\" height=\"24px\"viewBox=\"0 0 24 24\"\n",
              "       width=\"24px\">\n",
              "    <path d=\"M0 0h24v24H0V0z\" fill=\"none\"/>\n",
              "    <path d=\"M18.56 5.44l.94 2.06.94-2.06 2.06-.94-2.06-.94-.94-2.06-.94 2.06-2.06.94zm-11 1L8.5 8.5l.94-2.06 2.06-.94-2.06-.94L8.5 2.5l-.94 2.06-2.06.94zm10 10l.94 2.06.94-2.06 2.06-.94-2.06-.94-.94-2.06-.94 2.06-2.06.94z\"/><path d=\"M17.41 7.96l-1.37-1.37c-.4-.4-.92-.59-1.43-.59-.52 0-1.04.2-1.43.59L10.3 9.45l-7.72 7.72c-.78.78-.78 2.05 0 2.83L4 21.41c.39.39.9.59 1.41.59.51 0 1.02-.2 1.41-.59l7.78-7.78 2.81-2.81c.8-.78.8-2.07 0-2.86zM5.41 20L4 18.59l7.72-7.72 1.47 1.35L5.41 20z\"/>\n",
              "  </svg>\n",
              "      </button>\n",
              "      \n",
              "  <style>\n",
              "    .colab-df-container {\n",
              "      display:flex;\n",
              "      flex-wrap:wrap;\n",
              "      gap: 12px;\n",
              "    }\n",
              "\n",
              "    .colab-df-convert {\n",
              "      background-color: #E8F0FE;\n",
              "      border: none;\n",
              "      border-radius: 50%;\n",
              "      cursor: pointer;\n",
              "      display: none;\n",
              "      fill: #1967D2;\n",
              "      height: 32px;\n",
              "      padding: 0 0 0 0;\n",
              "      width: 32px;\n",
              "    }\n",
              "\n",
              "    .colab-df-convert:hover {\n",
              "      background-color: #E2EBFA;\n",
              "      box-shadow: 0px 1px 2px rgba(60, 64, 67, 0.3), 0px 1px 3px 1px rgba(60, 64, 67, 0.15);\n",
              "      fill: #174EA6;\n",
              "    }\n",
              "\n",
              "    [theme=dark] .colab-df-convert {\n",
              "      background-color: #3B4455;\n",
              "      fill: #D2E3FC;\n",
              "    }\n",
              "\n",
              "    [theme=dark] .colab-df-convert:hover {\n",
              "      background-color: #434B5C;\n",
              "      box-shadow: 0px 1px 3px 1px rgba(0, 0, 0, 0.15);\n",
              "      filter: drop-shadow(0px 1px 2px rgba(0, 0, 0, 0.3));\n",
              "      fill: #FFFFFF;\n",
              "    }\n",
              "  </style>\n",
              "\n",
              "      <script>\n",
              "        const buttonEl =\n",
              "          document.querySelector('#df-cacc6cda-a4ad-4c2e-839c-3906a9775854 button.colab-df-convert');\n",
              "        buttonEl.style.display =\n",
              "          google.colab.kernel.accessAllowed ? 'block' : 'none';\n",
              "\n",
              "        async function convertToInteractive(key) {\n",
              "          const element = document.querySelector('#df-cacc6cda-a4ad-4c2e-839c-3906a9775854');\n",
              "          const dataTable =\n",
              "            await google.colab.kernel.invokeFunction('convertToInteractive',\n",
              "                                                     [key], {});\n",
              "          if (!dataTable) return;\n",
              "\n",
              "          const docLinkHtml = 'Like what you see? Visit the ' +\n",
              "            '<a target=\"_blank\" href=https://colab.research.google.com/notebooks/data_table.ipynb>data table notebook</a>'\n",
              "            + ' to learn more about interactive tables.';\n",
              "          element.innerHTML = '';\n",
              "          dataTable['output_type'] = 'display_data';\n",
              "          await google.colab.output.renderOutput(dataTable, element);\n",
              "          const docLink = document.createElement('div');\n",
              "          docLink.innerHTML = docLinkHtml;\n",
              "          element.appendChild(docLink);\n",
              "        }\n",
              "      </script>\n",
              "    </div>\n",
              "  </div>\n",
              "  "
            ],
            "text/plain": [
              "      year country  no  ...        age cohort        bmi\n",
              "4574  2012     LAT   9  ...  21.845311   1990  26.277285\n",
              "5272  2014     GER   2  ...  24.837782   1989  28.457140\n",
              "3626  2010     DEN  33  ...  23.055441   1987  24.485652\n",
              "3635  2010     DEN  84  ...  31.154004   1979  23.547881\n",
              "3684  2010     FRA  42  ...  37.837098   1972  25.617284\n",
              "\n",
              "[5 rows x 13 columns]"
            ]
          },
          "metadata": {},
          "execution_count": 4
        }
      ]
    },
    {
      "cell_type": "code",
      "source": [
        "df.duplicated().astype(np.int8).sum()"
      ],
      "metadata": {
        "colab": {
          "base_uri": "https://localhost:8080/"
        },
        "id": "y3VPy9QQ2rO0",
        "outputId": "32f18f9f-33b6-45a5-8e08-240139e9195a"
      },
      "execution_count": 5,
      "outputs": [
        {
          "output_type": "execute_result",
          "data": {
            "text/plain": [
              "0"
            ]
          },
          "metadata": {},
          "execution_count": 5
        }
      ]
    },
    {
      "cell_type": "code",
      "source": [
        "df.name.value_counts().sort_values(ascending=False)"
      ],
      "metadata": {
        "colab": {
          "base_uri": "https://localhost:8080/"
        },
        "id": "DiO1yI_TAhQM",
        "outputId": "cf132b16-4a44-488b-df76-29d840766752"
      },
      "execution_count": 6,
      "outputs": [
        {
          "output_type": "execute_result",
          "data": {
            "text/plain": [
              "masalskis edgars    12\n",
              "green morten        12\n",
              "nielsen daniel      11\n",
              "madsen morten       11\n",
              "holos jonas         11\n",
              "                    ..\n",
              "blake jason          1\n",
              "nicoletti davide     1\n",
              "sedin daniel         1\n",
              "galvins guntis       1\n",
              "nielsen daniel       1\n",
              "Name: name, Length: 3278, dtype: int64"
            ]
          },
          "metadata": {},
          "execution_count": 6
        }
      ]
    },
    {
      "cell_type": "code",
      "source": [
        "df[df.name == 'masalskis edgars']  # different values of height during player's career\n",
        "# in 2004 - 175, then in 2016 again 175, between - 175 - 177, looks like some variance in measurements"
      ],
      "metadata": {
        "colab": {
          "base_uri": "https://localhost:8080/",
          "height": 426
        },
        "id": "jjOmUvv0A6oa",
        "outputId": "4f0f53d2-107d-44b2-c912-14f80e0656b9"
      },
      "execution_count": 7,
      "outputs": [
        {
          "output_type": "execute_result",
          "data": {
            "text/html": [
              "\n",
              "  <div id=\"df-0eba3e6e-32a6-4018-8884-7265c936335b\">\n",
              "    <div class=\"colab-df-container\">\n",
              "      <div>\n",
              "<style scoped>\n",
              "    .dataframe tbody tr th:only-of-type {\n",
              "        vertical-align: middle;\n",
              "    }\n",
              "\n",
              "    .dataframe tbody tr th {\n",
              "        vertical-align: top;\n",
              "    }\n",
              "\n",
              "    .dataframe thead th {\n",
              "        text-align: right;\n",
              "    }\n",
              "</style>\n",
              "<table border=\"1\" class=\"dataframe\">\n",
              "  <thead>\n",
              "    <tr style=\"text-align: right;\">\n",
              "      <th></th>\n",
              "      <th>year</th>\n",
              "      <th>country</th>\n",
              "      <th>no</th>\n",
              "      <th>name</th>\n",
              "      <th>position</th>\n",
              "      <th>side</th>\n",
              "      <th>height</th>\n",
              "      <th>weight</th>\n",
              "      <th>birth</th>\n",
              "      <th>club</th>\n",
              "      <th>age</th>\n",
              "      <th>cohort</th>\n",
              "      <th>bmi</th>\n",
              "    </tr>\n",
              "  </thead>\n",
              "  <tbody>\n",
              "    <tr>\n",
              "      <th>1413</th>\n",
              "      <td>2004</td>\n",
              "      <td>LAT</td>\n",
              "      <td>32</td>\n",
              "      <td>masalskis edgars</td>\n",
              "      <td>G</td>\n",
              "      <td>L</td>\n",
              "      <td>175</td>\n",
              "      <td>78.0</td>\n",
              "      <td>1980-03-31</td>\n",
              "      <td>hk riga 2000</td>\n",
              "      <td>24.084873</td>\n",
              "      <td>1980</td>\n",
              "      <td>25.469388</td>\n",
              "    </tr>\n",
              "    <tr>\n",
              "      <th>2154</th>\n",
              "      <td>2006</td>\n",
              "      <td>LAT</td>\n",
              "      <td>31</td>\n",
              "      <td>masalskis edgars</td>\n",
              "      <td>G</td>\n",
              "      <td>L</td>\n",
              "      <td>176</td>\n",
              "      <td>78.0</td>\n",
              "      <td>1980-03-31</td>\n",
              "      <td>neftekhimik nizhnekamsk</td>\n",
              "      <td>26.083504</td>\n",
              "      <td>1980</td>\n",
              "      <td>25.180785</td>\n",
              "    </tr>\n",
              "    <tr>\n",
              "      <th>2571</th>\n",
              "      <td>2007</td>\n",
              "      <td>LAT</td>\n",
              "      <td>31</td>\n",
              "      <td>masalskis edgars</td>\n",
              "      <td>G</td>\n",
              "      <td>L</td>\n",
              "      <td>176</td>\n",
              "      <td>78.0</td>\n",
              "      <td>1980-03-31</td>\n",
              "      <td>latvia</td>\n",
              "      <td>27.082820</td>\n",
              "      <td>1980</td>\n",
              "      <td>25.180785</td>\n",
              "    </tr>\n",
              "    <tr>\n",
              "      <th>2968</th>\n",
              "      <td>2008</td>\n",
              "      <td>LAT</td>\n",
              "      <td>31</td>\n",
              "      <td>masalskis edgars</td>\n",
              "      <td>G</td>\n",
              "      <td>L</td>\n",
              "      <td>177</td>\n",
              "      <td>78.0</td>\n",
              "      <td>1980-03-31</td>\n",
              "      <td>metallurg zhlobin</td>\n",
              "      <td>28.084873</td>\n",
              "      <td>1980</td>\n",
              "      <td>24.897060</td>\n",
              "    </tr>\n",
              "    <tr>\n",
              "      <th>3391</th>\n",
              "      <td>2009</td>\n",
              "      <td>LAT</td>\n",
              "      <td>31</td>\n",
              "      <td>masalskis edgars</td>\n",
              "      <td>G</td>\n",
              "      <td>L</td>\n",
              "      <td>177</td>\n",
              "      <td>78.0</td>\n",
              "      <td>1980-03-31</td>\n",
              "      <td>ev duisburg</td>\n",
              "      <td>29.084189</td>\n",
              "      <td>1980</td>\n",
              "      <td>24.897060</td>\n",
              "    </tr>\n",
              "    <tr>\n",
              "      <th>3785</th>\n",
              "      <td>2010</td>\n",
              "      <td>LAT</td>\n",
              "      <td>31</td>\n",
              "      <td>masalskis edgars</td>\n",
              "      <td>G</td>\n",
              "      <td>L</td>\n",
              "      <td>177</td>\n",
              "      <td>78.0</td>\n",
              "      <td>1980-03-31</td>\n",
              "      <td>dinamo riga</td>\n",
              "      <td>30.083504</td>\n",
              "      <td>1980</td>\n",
              "      <td>24.897060</td>\n",
              "    </tr>\n",
              "    <tr>\n",
              "      <th>4154</th>\n",
              "      <td>2011</td>\n",
              "      <td>LAT</td>\n",
              "      <td>31</td>\n",
              "      <td>masalskis edgars</td>\n",
              "      <td>G</td>\n",
              "      <td>L</td>\n",
              "      <td>177</td>\n",
              "      <td>78.0</td>\n",
              "      <td>1980-03-31</td>\n",
              "      <td>yugra khanty-mansisk</td>\n",
              "      <td>31.082820</td>\n",
              "      <td>1980</td>\n",
              "      <td>24.897060</td>\n",
              "    </tr>\n",
              "    <tr>\n",
              "      <th>4578</th>\n",
              "      <td>2012</td>\n",
              "      <td>LAT</td>\n",
              "      <td>31</td>\n",
              "      <td>masalskis edgars</td>\n",
              "      <td>G</td>\n",
              "      <td>L</td>\n",
              "      <td>176</td>\n",
              "      <td>85.0</td>\n",
              "      <td>1980-03-31</td>\n",
              "      <td>yugra khanty-mansisk</td>\n",
              "      <td>32.084873</td>\n",
              "      <td>1980</td>\n",
              "      <td>27.440599</td>\n",
              "    </tr>\n",
              "    <tr>\n",
              "      <th>4949</th>\n",
              "      <td>2013</td>\n",
              "      <td>LAT</td>\n",
              "      <td>31</td>\n",
              "      <td>masalskis edgars</td>\n",
              "      <td>G</td>\n",
              "      <td>L</td>\n",
              "      <td>176</td>\n",
              "      <td>85.0</td>\n",
              "      <td>1980-03-31</td>\n",
              "      <td>yugra khanty-mansisk</td>\n",
              "      <td>33.084189</td>\n",
              "      <td>1980</td>\n",
              "      <td>27.440599</td>\n",
              "    </tr>\n",
              "    <tr>\n",
              "      <th>5369</th>\n",
              "      <td>2014</td>\n",
              "      <td>LAT</td>\n",
              "      <td>31</td>\n",
              "      <td>masalskis edgars</td>\n",
              "      <td>G</td>\n",
              "      <td>L</td>\n",
              "      <td>175</td>\n",
              "      <td>78.0</td>\n",
              "      <td>1980-03-31</td>\n",
              "      <td>hk poprad</td>\n",
              "      <td>34.083504</td>\n",
              "      <td>1980</td>\n",
              "      <td>25.469388</td>\n",
              "    </tr>\n",
              "    <tr>\n",
              "      <th>5743</th>\n",
              "      <td>2015</td>\n",
              "      <td>LAT</td>\n",
              "      <td>31</td>\n",
              "      <td>masalskis edgars</td>\n",
              "      <td>G</td>\n",
              "      <td>L</td>\n",
              "      <td>175</td>\n",
              "      <td>78.0</td>\n",
              "      <td>1980-03-31</td>\n",
              "      <td>hc ambri-piotta</td>\n",
              "      <td>35.082820</td>\n",
              "      <td>1980</td>\n",
              "      <td>25.469388</td>\n",
              "    </tr>\n",
              "    <tr>\n",
              "      <th>6167</th>\n",
              "      <td>2016</td>\n",
              "      <td>LAT</td>\n",
              "      <td>31</td>\n",
              "      <td>masalskis edgars</td>\n",
              "      <td>G</td>\n",
              "      <td>L</td>\n",
              "      <td>175</td>\n",
              "      <td>78.0</td>\n",
              "      <td>1980-03-31</td>\n",
              "      <td>lada togliatti</td>\n",
              "      <td>36.084873</td>\n",
              "      <td>1980</td>\n",
              "      <td>25.469388</td>\n",
              "    </tr>\n",
              "  </tbody>\n",
              "</table>\n",
              "</div>\n",
              "      <button class=\"colab-df-convert\" onclick=\"convertToInteractive('df-0eba3e6e-32a6-4018-8884-7265c936335b')\"\n",
              "              title=\"Convert this dataframe to an interactive table.\"\n",
              "              style=\"display:none;\">\n",
              "        \n",
              "  <svg xmlns=\"http://www.w3.org/2000/svg\" height=\"24px\"viewBox=\"0 0 24 24\"\n",
              "       width=\"24px\">\n",
              "    <path d=\"M0 0h24v24H0V0z\" fill=\"none\"/>\n",
              "    <path d=\"M18.56 5.44l.94 2.06.94-2.06 2.06-.94-2.06-.94-.94-2.06-.94 2.06-2.06.94zm-11 1L8.5 8.5l.94-2.06 2.06-.94-2.06-.94L8.5 2.5l-.94 2.06-2.06.94zm10 10l.94 2.06.94-2.06 2.06-.94-2.06-.94-.94-2.06-.94 2.06-2.06.94z\"/><path d=\"M17.41 7.96l-1.37-1.37c-.4-.4-.92-.59-1.43-.59-.52 0-1.04.2-1.43.59L10.3 9.45l-7.72 7.72c-.78.78-.78 2.05 0 2.83L4 21.41c.39.39.9.59 1.41.59.51 0 1.02-.2 1.41-.59l7.78-7.78 2.81-2.81c.8-.78.8-2.07 0-2.86zM5.41 20L4 18.59l7.72-7.72 1.47 1.35L5.41 20z\"/>\n",
              "  </svg>\n",
              "      </button>\n",
              "      \n",
              "  <style>\n",
              "    .colab-df-container {\n",
              "      display:flex;\n",
              "      flex-wrap:wrap;\n",
              "      gap: 12px;\n",
              "    }\n",
              "\n",
              "    .colab-df-convert {\n",
              "      background-color: #E8F0FE;\n",
              "      border: none;\n",
              "      border-radius: 50%;\n",
              "      cursor: pointer;\n",
              "      display: none;\n",
              "      fill: #1967D2;\n",
              "      height: 32px;\n",
              "      padding: 0 0 0 0;\n",
              "      width: 32px;\n",
              "    }\n",
              "\n",
              "    .colab-df-convert:hover {\n",
              "      background-color: #E2EBFA;\n",
              "      box-shadow: 0px 1px 2px rgba(60, 64, 67, 0.3), 0px 1px 3px 1px rgba(60, 64, 67, 0.15);\n",
              "      fill: #174EA6;\n",
              "    }\n",
              "\n",
              "    [theme=dark] .colab-df-convert {\n",
              "      background-color: #3B4455;\n",
              "      fill: #D2E3FC;\n",
              "    }\n",
              "\n",
              "    [theme=dark] .colab-df-convert:hover {\n",
              "      background-color: #434B5C;\n",
              "      box-shadow: 0px 1px 3px 1px rgba(0, 0, 0, 0.15);\n",
              "      filter: drop-shadow(0px 1px 2px rgba(0, 0, 0, 0.3));\n",
              "      fill: #FFFFFF;\n",
              "    }\n",
              "  </style>\n",
              "\n",
              "      <script>\n",
              "        const buttonEl =\n",
              "          document.querySelector('#df-0eba3e6e-32a6-4018-8884-7265c936335b button.colab-df-convert');\n",
              "        buttonEl.style.display =\n",
              "          google.colab.kernel.accessAllowed ? 'block' : 'none';\n",
              "\n",
              "        async function convertToInteractive(key) {\n",
              "          const element = document.querySelector('#df-0eba3e6e-32a6-4018-8884-7265c936335b');\n",
              "          const dataTable =\n",
              "            await google.colab.kernel.invokeFunction('convertToInteractive',\n",
              "                                                     [key], {});\n",
              "          if (!dataTable) return;\n",
              "\n",
              "          const docLinkHtml = 'Like what you see? Visit the ' +\n",
              "            '<a target=\"_blank\" href=https://colab.research.google.com/notebooks/data_table.ipynb>data table notebook</a>'\n",
              "            + ' to learn more about interactive tables.';\n",
              "          element.innerHTML = '';\n",
              "          dataTable['output_type'] = 'display_data';\n",
              "          await google.colab.output.renderOutput(dataTable, element);\n",
              "          const docLink = document.createElement('div');\n",
              "          docLink.innerHTML = docLinkHtml;\n",
              "          element.appendChild(docLink);\n",
              "        }\n",
              "      </script>\n",
              "    </div>\n",
              "  </div>\n",
              "  "
            ],
            "text/plain": [
              "      year country  no  ...        age cohort        bmi\n",
              "1413  2004     LAT  32  ...  24.084873   1980  25.469388\n",
              "2154  2006     LAT  31  ...  26.083504   1980  25.180785\n",
              "2571  2007     LAT  31  ...  27.082820   1980  25.180785\n",
              "2968  2008     LAT  31  ...  28.084873   1980  24.897060\n",
              "3391  2009     LAT  31  ...  29.084189   1980  24.897060\n",
              "3785  2010     LAT  31  ...  30.083504   1980  24.897060\n",
              "4154  2011     LAT  31  ...  31.082820   1980  24.897060\n",
              "4578  2012     LAT  31  ...  32.084873   1980  27.440599\n",
              "4949  2013     LAT  31  ...  33.084189   1980  27.440599\n",
              "5369  2014     LAT  31  ...  34.083504   1980  25.469388\n",
              "5743  2015     LAT  31  ...  35.082820   1980  25.469388\n",
              "6167  2016     LAT  31  ...  36.084873   1980  25.469388\n",
              "\n",
              "[12 rows x 13 columns]"
            ]
          },
          "metadata": {},
          "execution_count": 7
        }
      ]
    },
    {
      "cell_type": "code",
      "source": [
        "df.country.unique()"
      ],
      "metadata": {
        "colab": {
          "base_uri": "https://localhost:8080/"
        },
        "id": "jTpOFwdX3BJG",
        "outputId": "b1603611-57bc-4398-ec9f-af3ce5ed4332"
      },
      "execution_count": 8,
      "outputs": [
        {
          "output_type": "execute_result",
          "data": {
            "text/plain": [
              "array(['RUS', 'AUT', 'BLR', 'CAN', 'CZE', 'FIN', 'GER', 'ITA', 'JPN',\n",
              "       'LAT', 'NOR', 'SUI', 'SVK', 'SWE', 'UKR', 'USA', 'POL', 'SLO',\n",
              "       'DEN', 'FRA', 'KAZ', 'HUN'], dtype=object)"
            ]
          },
          "metadata": {},
          "execution_count": 8
        }
      ]
    },
    {
      "cell_type": "code",
      "source": [
        "countries = ['FIN', 'NOR', 'DEN']\n",
        "# we will take mean value of height, as we do not know which measurement is the most accurate\n",
        "samples = [df.loc[df.country == c, ['name', 'height']].groupby('name').agg({'height': 'mean'})['height'].values for c in countries]"
      ],
      "metadata": {
        "id": "zIflOWjF3N9c"
      },
      "execution_count": 9,
      "outputs": []
    },
    {
      "cell_type": "code",
      "source": [
        "[yi.mean() for yi in samples]  # there is some difference"
      ],
      "metadata": {
        "colab": {
          "base_uri": "https://localhost:8080/"
        },
        "id": "9InjpfxYFSv1",
        "outputId": "e9149a1c-ab77-4fa3-c5b4-1b1092cb1abe"
      },
      "execution_count": 10,
      "outputs": [
        {
          "output_type": "execute_result",
          "data": {
            "text/plain": [
              "[184.361125, 182.765736077981, 184.2507488302943]"
            ]
          },
          "metadata": {},
          "execution_count": 10
        }
      ]
    },
    {
      "cell_type": "code",
      "source": [
        "# F-statistic\n",
        "def statistic(*y: list) -> float:\n",
        "    yc = np.concatenate(y)\n",
        "    SS_b = sum([yg.shape[0] * np.power((yg.mean() - yc.mean()), 2) for yg in y])\n",
        "    SS_w = sum(np.power((yi - yi.mean()), 2).sum() for yi in y)\n",
        "    k1, k2 = len(y) - 1, yc.shape[0] - len(y)\n",
        "    sigma_b, sigma_w = SS_b / k1, SS_w / k2\n",
        "    return sigma_b / sigma_w"
      ],
      "metadata": {
        "id": "Nt9R_KvI3qtF"
      },
      "execution_count": 11,
      "outputs": []
    },
    {
      "cell_type": "code",
      "source": [
        "F = statistic(*samples)\n",
        "F"
      ],
      "metadata": {
        "colab": {
          "base_uri": "https://localhost:8080/"
        },
        "id": "G3kC3Oxe6ua3",
        "outputId": "40d63653-da08-41e4-8348-d3c70ad7dad8"
      },
      "execution_count": 12,
      "outputs": [
        {
          "output_type": "execute_result",
          "data": {
            "text/plain": [
              "3.5572896265895504"
            ]
          },
          "metadata": {},
          "execution_count": 12
        }
      ]
    },
    {
      "cell_type": "code",
      "source": [
        "k = len(samples)\n",
        "n = np.concatenate([*samples]).shape[0]\n",
        "\n",
        "k1 = k - 1\n",
        "k2 = n - k"
      ],
      "metadata": {
        "id": "3R9Dxe_sClDI"
      },
      "execution_count": 13,
      "outputs": []
    },
    {
      "cell_type": "code",
      "source": [
        "alpha = 0.05\n",
        "t = stats.f.ppf(1 - alpha, k1, k2)\n",
        "t"
      ],
      "metadata": {
        "colab": {
          "base_uri": "https://localhost:8080/"
        },
        "id": "eWvFMcQSDDeS",
        "outputId": "a631ca98-25f8-4f31-b433-98599c832da3"
      },
      "execution_count": 14,
      "outputs": [
        {
          "output_type": "execute_result",
          "data": {
            "text/plain": [
              "3.0168482792459144"
            ]
          },
          "metadata": {},
          "execution_count": 14
        }
      ]
    },
    {
      "cell_type": "code",
      "source": [
        "ox = np.linspace(0, 6, 500)\n",
        "oy = stats.f.pdf(ox, k1, k2)\n",
        "\n",
        "ox_right = np.linspace(t, 6, 100)\n",
        "oy_right = stats.f.pdf(ox_right, k1, k2)\n",
        "\n",
        "plt.plot(ox, oy)\n",
        "plt.title(f'Statistic distribution: {\"H_0\" if F <= t else \"H_1\"}')\n",
        "plt.axvline(F, ls='dashed', lw=2, c='r', label=f'Statistic = {F:.5f}')\n",
        "plt.fill_between(ox_right, oy_right, alpha=0.5)\n",
        "plt.legend(loc='upper right')\n",
        "plt.grid(ls='dotted')\n",
        "plt.show()"
      ],
      "metadata": {
        "colab": {
          "base_uri": "https://localhost:8080/",
          "height": 281
        },
        "id": "LGFtBwcpDOMc",
        "outputId": "9c6cdaca-3f9e-4593-d0dd-6869efe2ebec"
      },
      "execution_count": 15,
      "outputs": [
        {
          "output_type": "display_data",
          "data": {
            "image/png": "[encoded data removed]",
            "text/plain": [
              "<Figure size 432x288 with 1 Axes>"
            ]
          },
          "metadata": {
            "needs_background": "light"
          }
        }
      ]
    },
    {
      "cell_type": "code",
      "source": [
        "p_value = 1 - stats.f.cdf(F, dfn=k1, dfd=k2)  # for one-sided critical area\n",
        "p_value"
      ],
      "metadata": {
        "colab": {
          "base_uri": "https://localhost:8080/"
        },
        "id": "tvnnNBagD8N0",
        "outputId": "45120067-0c3b-46e0-8338-98f1bb7aa232"
      },
      "execution_count": 16,
      "outputs": [
        {
          "output_type": "execute_result",
          "data": {
            "text/plain": [
              "0.029364190203441387"
            ]
          },
          "metadata": {},
          "execution_count": 16
        }
      ]
    },
    {
      "cell_type": "code",
      "source": [
        "1 if p_value < alpha else 0  # ANSWER"
      ],
      "metadata": {
        "colab": {
          "base_uri": "https://localhost:8080/"
        },
        "id": "4UTPFBw_FzI0",
        "outputId": "265aa769-f71a-4a8e-a414-bdb2ca124288"
      },
      "execution_count": 17,
      "outputs": [
        {
          "output_type": "execute_result",
          "data": {
            "text/plain": [
              "1"
            ]
          },
          "metadata": {},
          "execution_count": 17
        }
      ]
    },
    {
      "cell_type": "code",
      "source": [
        "stats.f_oneway(*samples) # check the answer"
      ],
      "metadata": {
        "colab": {
          "base_uri": "https://localhost:8080/"
        },
        "id": "ogSoIIrrEIV5",
        "outputId": "cc649bfa-0aab-4a67-ef9a-a4e33e593742"
      },
      "execution_count": 18,
      "outputs": [
        {
          "output_type": "execute_result",
          "data": {
            "text/plain": [
              "F_onewayResult(statistic=3.557289626589626, pvalue=0.029364190203438802)"
            ]
          },
          "metadata": {},
          "execution_count": 18
        }
      ]
    },
    {
      "cell_type": "markdown",
      "source": [
        "Таким образом, нулевая гипотеза о равенстве среднего роста по трем выборкам отбрасываается в пользу альтернативной гипотезы о наличии статистической значимости в средних значениях выборок. Отличие роста игороков из рассматриваемых стран является статистически значимым, при установленном уровне значимости $0.05$ ответ: 1"
      ],
      "metadata": {
        "id": "zXvPY9dSFOEK"
      }
    },
    {
      "cell_type": "code",
      "source": [
        "# BMI\n",
        "samples = [df.loc[df.country == c, ['name', 'bmi']].groupby('name').agg({'bmi': 'mean'})['bmi'].values for c in countries]"
      ],
      "metadata": {
        "id": "jdE63R4TGtKY"
      },
      "execution_count": 19,
      "outputs": []
    },
    {
      "cell_type": "code",
      "source": [
        "[yi.mean() for yi in samples]  # there are some small difference"
      ],
      "metadata": {
        "colab": {
          "base_uri": "https://localhost:8080/"
        },
        "id": "-vetiVUGIZzm",
        "outputId": "65688061-d110-4789-97cf-3b8856b3678f"
      },
      "execution_count": 20,
      "outputs": [
        {
          "output_type": "execute_result",
          "data": {
            "text/plain": [
              "[25.947272800622656, 25.754549965425593, 25.371768467344744]"
            ]
          },
          "metadata": {},
          "execution_count": 20
        }
      ]
    },
    {
      "cell_type": "code",
      "source": [
        "F = statistic(*samples)\n",
        "F"
      ],
      "metadata": {
        "colab": {
          "base_uri": "https://localhost:8080/"
        },
        "id": "xH5A2ahfIf9J",
        "outputId": "23844d29-472c-47bd-d87d-de227d4eade5"
      },
      "execution_count": 21,
      "outputs": [
        {
          "output_type": "execute_result",
          "data": {
            "text/plain": [
              "7.253102169187219"
            ]
          },
          "metadata": {},
          "execution_count": 21
        }
      ]
    },
    {
      "cell_type": "code",
      "source": [
        "# same as for previous case\n",
        "k = len(samples)\n",
        "n = np.concatenate([*samples]).shape[0]\n",
        "\n",
        "k1 = k - 1\n",
        "k2 = n - k"
      ],
      "metadata": {
        "id": "vOQPyXCoIlex"
      },
      "execution_count": 22,
      "outputs": []
    },
    {
      "cell_type": "code",
      "source": [
        "# same as for previous case\n",
        "alpha = 0.05\n",
        "t = stats.f.ppf(1 - alpha, k1, k2)\n",
        "t"
      ],
      "metadata": {
        "colab": {
          "base_uri": "https://localhost:8080/"
        },
        "id": "_45Ltf4dIofz",
        "outputId": "46b9d530-afc6-4316-91be-a4cdd7acf527"
      },
      "execution_count": 23,
      "outputs": [
        {
          "output_type": "execute_result",
          "data": {
            "text/plain": [
              "3.0168482792459144"
            ]
          },
          "metadata": {},
          "execution_count": 23
        }
      ]
    },
    {
      "cell_type": "code",
      "source": [
        "ox = np.linspace(0, 8, 500)\n",
        "oy = stats.f.pdf(ox, k1, k2)\n",
        "\n",
        "ox_right = np.linspace(t, 8, 100)\n",
        "oy_right = stats.f.pdf(ox_right, k1, k2)\n",
        "\n",
        "plt.plot(ox, oy)\n",
        "plt.title(f'Statistic distribution: {\"H_0\" if F <= t else \"H_1\"}')\n",
        "plt.axvline(F, ls='dashed', lw=2, c='r', label=f'Statistic = {F:.5f}')\n",
        "plt.fill_between(ox_right, oy_right, alpha=0.5)\n",
        "plt.legend(loc='upper left')\n",
        "plt.grid(ls='dotted')\n",
        "plt.show()"
      ],
      "metadata": {
        "colab": {
          "base_uri": "https://localhost:8080/",
          "height": 281
        },
        "id": "6QjZjqaoIz6V",
        "outputId": "b30f6d38-3265-4565-dc21-269053bc415c"
      },
      "execution_count": 24,
      "outputs": [
        {
          "output_type": "display_data",
          "data": {
            "image/png": "[encoded data removed]",
            "text/plain": [
              "<Figure size 432x288 with 1 Axes>"
            ]
          },
          "metadata": {
            "needs_background": "light"
          }
        }
      ]
    },
    {
      "cell_type": "code",
      "source": [
        "p_value = 1 - stats.f.cdf(F, dfn=k1, dfd=k2)  # for one-sided critical area\n",
        "p_value"
      ],
      "metadata": {
        "colab": {
          "base_uri": "https://localhost:8080/"
        },
        "id": "h7wDqTcLJBa_",
        "outputId": "f3982e82-ce4a-4e7d-9689-60b7040a2118"
      },
      "execution_count": 25,
      "outputs": [
        {
          "output_type": "execute_result",
          "data": {
            "text/plain": [
              "0.0007986236735616492"
            ]
          },
          "metadata": {},
          "execution_count": 25
        }
      ]
    },
    {
      "cell_type": "code",
      "source": [
        "1 if p_value < alpha else 0  # ANSWER"
      ],
      "metadata": {
        "colab": {
          "base_uri": "https://localhost:8080/"
        },
        "id": "S8oC36jsJE3D",
        "outputId": "8cd7787b-c30f-4c20-d441-d8bf673b635e"
      },
      "execution_count": 26,
      "outputs": [
        {
          "output_type": "execute_result",
          "data": {
            "text/plain": [
              "1"
            ]
          },
          "metadata": {},
          "execution_count": 26
        }
      ]
    },
    {
      "cell_type": "code",
      "source": [
        "stats.f_oneway(*samples) # check the answer"
      ],
      "metadata": {
        "colab": {
          "base_uri": "https://localhost:8080/"
        },
        "id": "Nmmz5Xo8JJus",
        "outputId": "55257aa1-e941-49a0-e7ee-bb24af0ba372"
      },
      "execution_count": 27,
      "outputs": [
        {
          "output_type": "execute_result",
          "data": {
            "text/plain": [
              "F_onewayResult(statistic=7.2531021691872954, pvalue=0.0007986236735615981)"
            ]
          },
          "metadata": {},
          "execution_count": 27
        }
      ]
    },
    {
      "cell_type": "markdown",
      "source": [
        "Значит разница между индексами массы тела игроков также являются статистически значимыми при устанолвенном уровне значимости $0.05$."
      ],
      "metadata": {
        "id": "jUf8L7SQJ5F5"
      }
    },
    {
      "cell_type": "markdown",
      "source": [
        "К уроку уже приложено решение, значения статистик не совпадают с найденными здесь. Полагаю это связано с выбором способа учета уникальности имен игороков: здесь - среднее значение за карьеру, в решении - не указано."
      ],
      "metadata": {
        "id": "ka7jcpfGMh_U"
      }
    },
    {
      "cell_type": "markdown",
      "source": [
        "Попробуем посчитать иначе"
      ],
      "metadata": {
        "id": "QCujamobV_I0"
      }
    },
    {
      "cell_type": "code",
      "source": [
        "# as taking mean of bmi is not rather correct, we will try to take the latest value, as if years for player occur in ascending order\n",
        "samples = [df.loc[df.country == c, ['name', 'bmi']].groupby('name').agg(lambda x: x.bmi.iloc[-1])['bmi'].values for c in countries]"
      ],
      "metadata": {
        "id": "ciVU7PmfVfFW"
      },
      "execution_count": 28,
      "outputs": []
    },
    {
      "cell_type": "code",
      "source": [
        "[yi.mean() for yi in samples]"
      ],
      "metadata": {
        "colab": {
          "base_uri": "https://localhost:8080/"
        },
        "id": "9rZAXic2YOlE",
        "outputId": "e1c648ed-fb2c-45f5-c9b9-72eee4ab05f6"
      },
      "execution_count": 29,
      "outputs": [
        {
          "output_type": "execute_result",
          "data": {
            "text/plain": [
              "[25.948082381435807, 25.84454256708045, 25.437554156321017]"
            ]
          },
          "metadata": {},
          "execution_count": 29
        }
      ]
    },
    {
      "cell_type": "code",
      "source": [
        "F = statistic(*samples)\n",
        "F"
      ],
      "metadata": {
        "colab": {
          "base_uri": "https://localhost:8080/"
        },
        "id": "Q_P_6F2RV9zr",
        "outputId": "e61e32dc-d629-46ea-8ccc-bc36081e6faa"
      },
      "execution_count": 30,
      "outputs": [
        {
          "output_type": "execute_result",
          "data": {
            "text/plain": [
              "5.532919076049722"
            ]
          },
          "metadata": {},
          "execution_count": 30
        }
      ]
    },
    {
      "cell_type": "code",
      "source": [
        "ox = np.linspace(0, 8, 500)\n",
        "oy = stats.f.pdf(ox, k1, k2)\n",
        "\n",
        "ox_right = np.linspace(t, 8, 100)\n",
        "oy_right = stats.f.pdf(ox_right, k1, k2)\n",
        "\n",
        "plt.plot(ox, oy)\n",
        "plt.title(f'Statistic distribution: {\"H_0\" if F <= t else \"H_1\"}')\n",
        "plt.axvline(F, ls='dashed', lw=2, c='r', label=f'Statistic = {F:.5f}')\n",
        "plt.fill_between(ox_right, oy_right, alpha=0.5)\n",
        "plt.legend(loc='upper left')\n",
        "plt.grid(ls='dotted')\n",
        "plt.show()"
      ],
      "metadata": {
        "colab": {
          "base_uri": "https://localhost:8080/",
          "height": 281
        },
        "id": "lKmUSkWKWRPu",
        "outputId": "277acdf2-36d3-4bcd-af86-e0acfdfd6aba"
      },
      "execution_count": 31,
      "outputs": [
        {
          "output_type": "display_data",
          "data": {
            "image/png": "[encoded data removed]",
            "text/plain": [
              "<Figure size 432x288 with 1 Axes>"
            ]
          },
          "metadata": {
            "needs_background": "light"
          }
        }
      ]
    },
    {
      "cell_type": "code",
      "source": [
        "stats.f_oneway(*samples)  # got the same answer - H_1 is true, answer: 1"
      ],
      "metadata": {
        "colab": {
          "base_uri": "https://localhost:8080/"
        },
        "id": "GbaFRtV0WTSR",
        "outputId": "e01a65db-a3bf-4aeb-8fc6-8342f0488607"
      },
      "execution_count": 32,
      "outputs": [
        {
          "output_type": "execute_result",
          "data": {
            "text/plain": [
              "F_onewayResult(statistic=5.532919076049785, pvalue=0.004243187723739065)"
            ]
          },
          "metadata": {},
          "execution_count": 32
        }
      ]
    }
  ]
}