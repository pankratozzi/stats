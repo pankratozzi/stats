{
  "nbformat": 4,
  "nbformat_minor": 0,
  "metadata": {
    "colab": {
      "name": "stats_lesson5.ipynb",
      "provenance": [],
      "collapsed_sections": []
    },
    "kernelspec": {
      "name": "python3",
      "display_name": "Python 3"
    },
    "language_info": {
      "name": "python"
    }
  },
  "cells": [
    {
      "cell_type": "markdown",
      "source": [
        "__Задача 1__\n",
        "\n",
        "**Известно, что генеральная совокупность распределена нормально с известным средним квадратическим отклонением 16. Найти ширину доверительного интервала для оценки математического ожидания `mu` с надёжностью 0.95, если выборочное среднее равно 80, а объём выборки равен 256.**"
      ],
      "metadata": {
        "id": "Xz41RAK5tQqS"
      }
    },
    {
      "cell_type": "markdown",
      "source": [
        "Из условий задачи известно, что $\\overline X = 80, p = 0.95, n = 256, \\sigma = 16$\n",
        "\n",
        "Тогда используем $Z-$статистику для оценки математического ожидания $\\mu$: $Z = \\dfrac{\\overline X - \\mu}{\\sigma / \\sqrt{n}}$, при этом уровень значимости $\\alpha = 0.05$\n",
        "\n",
        "$H_0 -$ математическое ожидание равно $\\mu$\n",
        "\n",
        "$H_1 -$ математическое ожидание $\\neq \\mu$, то есть меньше или больше $\\mu$\n",
        "\n",
        "Критическая область вусторонняя: $\\Omega_\\alpha = \\left( -\\infty, t_{\\alpha / 2}\\right) \\cup \\left( t_{1 - \\alpha / 2} , \\infty \\right)$\n",
        "\n",
        "Тогда для $Z-$статистики доверительный интервал есть:\n",
        "$P \\left( \\overline{X} + t_{\\alpha / 2} \\cdot \\dfrac{\\sigma}{\\sqrt{n}} \\leq \\mu \\leq \\overline{X} + t_{1 - \\alpha / 2} \\cdot \\dfrac{\\sigma}{\\sqrt{n}} \\right) = p$"
      ],
      "metadata": {
        "id": "vb4b76JotQ65"
      }
    },
    {
      "cell_type": "code",
      "source": [
        "from scipy import stats\n",
        "import numpy as np\n",
        "import matplotlib.pyplot as plt\n",
        "\n",
        "p = 0.95\n",
        "alpha = 1 - p\n",
        "n = 256\n",
        "mean = 80\n",
        "sigma = 16\n",
        "\n",
        "t1 = stats.norm.ppf(alpha / 2)\n",
        "t2 = stats.norm.ppf(1 - alpha / 2)\n",
        "\n",
        "t1, t2"
      ],
      "metadata": {
        "colab": {
          "base_uri": "https://localhost:8080/"
        },
        "id": "pgthmKFPzRnr",
        "outputId": "e7e4b086-7591-4b18-b9c8-17c7880bd0a3"
      },
      "execution_count": 1,
      "outputs": [
        {
          "output_type": "execute_result",
          "data": {
            "text/plain": [
              "(-1.959963984540054, 1.959963984540054)"
            ]
          },
          "metadata": {},
          "execution_count": 1
        }
      ]
    },
    {
      "cell_type": "code",
      "source": [
        "# confidence interval width\n",
        "(mean + t2 * sigma / np.sqrt(n)) - (mean + t1 * sigma / np.sqrt(n)) "
      ],
      "metadata": {
        "colab": {
          "base_uri": "https://localhost:8080/"
        },
        "id": "lJgTNpaizZu_",
        "outputId": "9e0451c4-0983-420d-cae6-078f8d3c537e"
      },
      "execution_count": 2,
      "outputs": [
        {
          "output_type": "execute_result",
          "data": {
            "text/plain": [
              "3.9199279690801063"
            ]
          },
          "metadata": {},
          "execution_count": 2
        }
      ]
    },
    {
      "cell_type": "markdown",
      "source": [
        "**Продавец утверждает, что средний вес пачки печенья составляет 200 г. Из партии извлечена выборка из 10 пачек. Вес каждой пачки составляет:**\n",
        "```\n",
        "202, 203, 199, 197, 195, 201, 200, 204, 194, 190\n",
        "```\n",
        "**Известно, что их веса распределены нормально. Верно ли утверждение продавца, если учитывать, что уровень значимости равен 1%? Найдите P-значение для данного теста и укажите его в качестве ответа.**"
      ],
      "metadata": {
        "id": "CXIEjUhh0Oj9"
      }
    },
    {
      "cell_type": "markdown",
      "source": [
        "__Этапы проверки гипотез__\n",
        "\n",
        "1. Формулируются нулевая и альтернативная гипотезы.\n",
        "2. Задаётся некоторая __статистика__ (функция от выборки) $S(X)$, которая в условиях справедливости нулевой гипотезы $H_0$ имеет _известное распределение_ (в частности, известна её функция распределения $F_S(x) = P(S < x)$).\n",
        "3. Фиксируется __уровень значимости__ $\\alpha$ — допустимая для данной задачи вероятность _ошибки первого рода_ (чаще всего $0.01$, $0.05$ или $0.1$).\n",
        "4. Определяется __критическая область__ $\\Omega_\\alpha$, такая, что $P(S \\in \\Omega_\\alpha | H_0) = \\alpha$.\n",
        "5. Проводится __статистический тест__: для конкретной выборки $X$ считается значение $S(X)$, и если оно принадлежит $\\Omega_\\alpha$, то заключаем, что данные противоречат гипотезе $H_0$, и принимается гипотеза $H_1$."
      ],
      "metadata": {
        "id": "qe4AUn9q06Mv"
      }
    },
    {
      "cell_type": "markdown",
      "source": [
        "Сформулируем гипотезы:\n",
        "\n",
        "$H_0 -$ математическое ожидание для веса пачки печенья составляет 200гр.\n",
        "\n",
        "$H_1 -$ математическое ожидание для веса пачки печенья отличается от 200гр.\n",
        "\n",
        "Так как значения весов распределены нормально и нам неизвестна $\\sigma$ генеральной совокупности, воспользуемя статистикой Стьюдента $t$:\n",
        "$$t = \\dfrac{\\overline{X} - \\mu}{\\sigma_X / \\sqrt{n}},$$\n",
        "где $\\sigma_X$ — несмещённая оценка среднего квадратического отклонения.\n",
        "\n",
        "Условием задачи уровень значимости $\\alpha$ установлен $0.01$\n",
        "\n",
        "Установим критическую область: $\\Omega_\\alpha$, такую, что $P(S \\in \\Omega_\\alpha | H_0) = \\alpha$, которая здесь двухсторонняя\n",
        "\n",
        "Для двухсторонней области $\\Omega_\\alpha = \\left( -\\infty, t_{\\alpha / 2} \\right) \\cup \\left( t_{1 - \\alpha / 2} , \\infty \\right)$ нужна комбинация двух границ ($\\alpha = $ $p-value$ на границе критической области): $$P = 2 \\cdot \\min (P_l, P_r)$$"
      ],
      "metadata": {
        "id": "8RJaWIdN0Tv5"
      }
    },
    {
      "cell_type": "code",
      "source": [
        "samples = np.array([202, 203, 199, 197, 195, 201, 200, 204, 194, 190])"
      ],
      "metadata": {
        "id": "hy1g4-0T4l8f"
      },
      "execution_count": 3,
      "outputs": []
    },
    {
      "cell_type": "code",
      "source": [
        "# statistic\n",
        "def statistic(samples: np.ndarray, mu: float) -> float:\n",
        "    return (samples.mean() - mu) / (samples.std(ddof=1) / np.sqrt(samples.shape[0]))"
      ],
      "metadata": {
        "id": "_eijOIRw4duR"
      },
      "execution_count": 4,
      "outputs": []
    },
    {
      "cell_type": "code",
      "source": [
        "# quantiles\n",
        "alpha = 0.01\n",
        "n = samples.shape[0]\n",
        "t1 = stats.t.ppf(alpha / 2, df=n - 1)\n",
        "t2 = stats.t.ppf(1 - alpha / 2, df=n - 1)\n",
        "\n",
        "t1, t2"
      ],
      "metadata": {
        "colab": {
          "base_uri": "https://localhost:8080/"
        },
        "id": "HQ9D4JNQ4wic",
        "outputId": "e1f0a513-a20a-436d-ccc1-00fed683cb36"
      },
      "execution_count": 5,
      "outputs": [
        {
          "output_type": "execute_result",
          "data": {
            "text/plain": [
              "(-3.24983554401537, 3.2498355440153697)"
            ]
          },
          "metadata": {},
          "execution_count": 5
        }
      ]
    },
    {
      "cell_type": "code",
      "source": [
        "# critical areas\n",
        "ox = np.linspace(-4, 4, 500)\n",
        "oy = stats.t.pdf(ox, df=n - 1)\n",
        "\n",
        "ox_left = np.linspace(-4, t1, 100)\n",
        "oy_left = stats.t.pdf(ox_left, df=n - 1)\n",
        "\n",
        "ox_right = np.linspace(t2, 4, 100)\n",
        "oy_right = stats.t.pdf(ox_right, df=n - 1)\n",
        "\n",
        "plt.figure(figsize=(7,4))\n",
        "plt.plot(ox, oy)\n",
        "plt.fill_between(ox_left, oy_left, alpha=0.5, color='C0')\n",
        "plt.fill_between(ox_right, oy_right, alpha=0.5, color='C0')\n",
        "plt.grid()\n",
        "plt.show()"
      ],
      "metadata": {
        "colab": {
          "base_uri": "https://localhost:8080/",
          "height": 266
        },
        "id": "SiFCbr-U46K0",
        "outputId": "aa142e5b-6cac-4965-b113-ae5bfafba209"
      },
      "execution_count": 6,
      "outputs": [
        {
          "output_type": "display_data",
          "data": {
            "image/png": "[encoded data removed]",
            "text/plain": [
              "<Figure size 504x288 with 1 Axes>"
            ]
          },
          "metadata": {
            "needs_background": "light"
          }
        }
      ]
    },
    {
      "cell_type": "code",
      "source": [
        "# test\n",
        "S = statistic(samples, 200)\n",
        "S"
      ],
      "metadata": {
        "colab": {
          "base_uri": "https://localhost:8080/"
        },
        "id": "5vovv-hZ5Zmb",
        "outputId": "287d7960-bb43-4718-c248-aae61677a729"
      },
      "execution_count": 7,
      "outputs": [
        {
          "output_type": "execute_result",
          "data": {
            "text/plain": [
              "-1.0651074037450896"
            ]
          },
          "metadata": {},
          "execution_count": 7
        }
      ]
    },
    {
      "cell_type": "code",
      "source": [
        "# p-value\n",
        "p_left = stats.t.cdf(S, df=n - 1)\n",
        "p_right = 1 - stats.t.cdf(S, df=n - 1)\n",
        "\n",
        "pvalue = 2 * min(p_left, p_right)\n",
        "\n",
        "pvalue"
      ],
      "metadata": {
        "colab": {
          "base_uri": "https://localhost:8080/"
        },
        "id": "GoQLXdRRFu0J",
        "outputId": "9acfa629-1b68-4aca-c672-91dbd4a72682"
      },
      "execution_count": 8,
      "outputs": [
        {
          "output_type": "execute_result",
          "data": {
            "text/plain": [
              "0.31456660352472854"
            ]
          },
          "metadata": {},
          "execution_count": 8
        }
      ]
    },
    {
      "cell_type": "code",
      "source": [
        "# same statistic and p-value\n",
        "stats.ttest_1samp(samples, popmean=200)"
      ],
      "metadata": {
        "colab": {
          "base_uri": "https://localhost:8080/"
        },
        "id": "xM5eME93F74p",
        "outputId": "9f271ce9-147f-4828-8a63-cf4d236e98c9"
      },
      "execution_count": 9,
      "outputs": [
        {
          "output_type": "execute_result",
          "data": {
            "text/plain": [
              "Ttest_1sampResult(statistic=-1.0651074037450896, pvalue=0.31456660352472854)"
            ]
          },
          "metadata": {},
          "execution_count": 9
        }
      ]
    },
    {
      "cell_type": "markdown",
      "source": [
        "Так как значение $p-value > \\alpha$, то $H_0$ принимается, продавец прав"
      ],
      "metadata": {
        "id": "lsoi9lhjdV5g"
      }
    },
    {
      "cell_type": "markdown",
      "source": [
        "Далее варианты расчета мощности теста, к задаче 2 не относится"
      ],
      "metadata": {
        "id": "cqRA_FsZhfkS"
      }
    },
    {
      "cell_type": "code",
      "source": [
        "# set Cohen's d for 1-sampled test\n",
        "effect_size_1samp = np.abs((samples.mean() - 200)) / samples.std(ddof=1)\n",
        "effect_size_1samp"
      ],
      "metadata": {
        "colab": {
          "base_uri": "https://localhost:8080/"
        },
        "id": "UUSbqFUNZB26",
        "outputId": "e1c10924-b88a-413c-8de5-758e5a883aae"
      },
      "execution_count": 31,
      "outputs": [
        {
          "output_type": "execute_result",
          "data": {
            "text/plain": [
              "0.3368165348543039"
            ]
          },
          "metadata": {},
          "execution_count": 31
        }
      ]
    },
    {
      "cell_type": "code",
      "source": [
        "from statsmodels.stats.power import TTestPower\n",
        "from statsmodels.stats.power import tt_solve_power\n",
        "\n",
        "test = TTestPower()\n",
        "# got very low test power, maybe it caused from small effect_size\n",
        "test.power(effect_size=effect_size_1samp, nobs=n, alpha=alpha, df=n-1, alternative='two-sided')  "
      ],
      "metadata": {
        "colab": {
          "base_uri": "https://localhost:8080/"
        },
        "id": "_maEw5r_WILy",
        "outputId": "e8869e32-aedd-41c2-ded8-9361a43ff3dc"
      },
      "execution_count": 43,
      "outputs": [
        {
          "output_type": "execute_result",
          "data": {
            "text/plain": [
              "0.04574574015783043"
            ]
          },
          "metadata": {},
          "execution_count": 43
        }
      ]
    },
    {
      "cell_type": "code",
      "source": [
        "# desired effect-size to achieve 80% test power\n",
        "des = tt_solve_power(effect_size=None, nobs=n, alpha=alpha, power=0.8, alternative='two-sided')\n",
        "des"
      ],
      "metadata": {
        "colab": {
          "base_uri": "https://localhost:8080/"
        },
        "id": "Tq0cuE5-lW4L",
        "outputId": "12618537-a2e9-4220-f4ad-1bb70f8e93de"
      },
      "execution_count": 50,
      "outputs": [
        {
          "output_type": "execute_result",
          "data": {
            "text/plain": [
              "1.3320310500014894"
            ]
          },
          "metadata": {},
          "execution_count": 50
        }
      ]
    },
    {
      "cell_type": "code",
      "source": [
        "# if taking more significant difference in box weights\n",
        "test.power(effect_size=des, nobs=n, alpha=alpha, df=n-1, alternative='two-sided')  "
      ],
      "metadata": {
        "colab": {
          "base_uri": "https://localhost:8080/"
        },
        "id": "JK_GUrY0h_AF",
        "outputId": "5fbe448c-8e66-423e-873c-92d4b9ae7620"
      },
      "execution_count": 51,
      "outputs": [
        {
          "output_type": "execute_result",
          "data": {
            "text/plain": [
              "0.79999924671498"
            ]
          },
          "metadata": {},
          "execution_count": 51
        }
      ]
    },
    {
      "cell_type": "markdown",
      "source": [
        "__Задача 3__\n",
        "\n",
        "Дана выборка диаметров подшипников из примера 1 с занятия 5:\n",
        "```\n",
        "samples = [0.6603, 0.9466, 0.5968, 1.3792, 1.5481, 0.7515, 1.0681, 1.1134,\n",
        "           1.2088, 1.701 , 1.0282, 1.3579, 1.0191, 1.1784, 1.1168, 1.1372,\n",
        "           0.7273, 1.3958, 0.8665, 1.5112, 1.161 , 1.0232, 1.0865, 1.02  ]\n",
        "```\n",
        "Предполагая, что диаметры подшипников распределены нормально, проверьте гипотезу о том, что дисперсия случайной величины равна `0.0625` при уровне значимости `alpha = 0.05`. Что для этого нужно знать:\n",
        "1. Альтернативная гипотеза двухсторонняя.\n",
        "2. Статистика для теста: `H = (n - 1) * sample_variance / variance`, где `n` - число элементов в выборке, `sample_variance` - несмещённая оценка дисперсии, `variance` - утверждаемая нулевой гипотезой дисперсия.\n",
        "3. Эта статистика в предположении верности нулевой гипотезы имеет распределение хи-квадрат с параметром `df = n - 1`. Её квантили можно найти с помощью функции `scipy.stats.chi2.ppf`.\n",
        "\n",
        "В качестве ответа запишите 1, если нулевая гипотеза верна, и 0 иначе."
      ],
      "metadata": {
        "id": "ckg5ItI7G_fR"
      }
    },
    {
      "cell_type": "markdown",
      "source": [
        "$H_0$ - дисперсия случайной величины равна $0.0625$\n",
        "\n",
        "$H_1$ - дисперсия отлична от $0.0625$\n",
        "\n"
      ],
      "metadata": {
        "id": "80rLyMciHIx7"
      }
    },
    {
      "cell_type": "code",
      "source": [
        "samples = np.array([0.6603, 0.9466, 0.5968, 1.3792, 1.5481, 0.7515, 1.0681, 1.1134,\n",
        "                    1.2088, 1.701 , 1.0282, 1.3579, 1.0191, 1.1784, 1.1168, 1.1372,\n",
        "                    0.7273, 1.3958, 0.8665, 1.5112, 1.161 , 1.0232, 1.0865, 1.02])\n",
        "alpha = 0.05\n",
        "variance = 0.0625 \n",
        "n = samples.shape[0]\n",
        "Hs = (n - 1) * samples.var(ddof=1) / variance\n",
        "\n",
        "t1 = stats.chi2.ppf(alpha/2, df=n-1)\n",
        "t2 = stats.chi2.ppf(1 - alpha/2, df=n-1)\n",
        "t1, t2, Hs"
      ],
      "metadata": {
        "colab": {
          "base_uri": "https://localhost:8080/"
        },
        "id": "HyAgXPASHrbx",
        "outputId": "bbbe5bbf-febc-4242-df85-4a685f1dd25e"
      },
      "execution_count": null,
      "outputs": [
        {
          "output_type": "execute_result",
          "data": {
            "text/plain": [
              "(11.688551922452438, 38.0756272503558, 28.720541753333343)"
            ]
          },
          "metadata": {},
          "execution_count": 43
        }
      ]
    },
    {
      "cell_type": "code",
      "source": [
        "# critical areas\n",
        "ox = np.linspace(5, 50, 500)\n",
        "oy = stats.chi2.pdf(ox, df=n - 1)\n",
        "\n",
        "ox_left = np.linspace(5, t1, 100)\n",
        "oy_left = stats.chi2.pdf(ox_left, df=n - 1)\n",
        "\n",
        "ox_right = np.linspace(t2, 50, 100)\n",
        "oy_right = stats.chi2.pdf(ox_right, df=n - 1)\n",
        "\n",
        "plt.figure(figsize=(7,4))\n",
        "plt.plot(ox, oy)\n",
        "plt.axvline(Hs, ls='--', lw=1.5, c='r')\n",
        "hyp = 'The H_0 is true' if Hs < t2 and Hs > t1 else 'H_1 is true'\n",
        "plt.title(hyp)\n",
        "plt.fill_between(ox_left, oy_left, alpha=0.5, color='C0')\n",
        "plt.fill_between(ox_right, oy_right, alpha=0.5, color='C0')\n",
        "plt.xlabel('Statistic values')\n",
        "plt.ylabel('Density function, variance distribution')\n",
        "plt.grid()\n",
        "plt.show()"
      ],
      "metadata": {
        "colab": {
          "base_uri": "https://localhost:8080/",
          "height": 295
        },
        "id": "qunUZYDYJMtu",
        "outputId": "09d3e59a-800c-4d9b-90d4-3da1f088be03"
      },
      "execution_count": null,
      "outputs": [
        {
          "output_type": "display_data",
          "data": {
            "image/png": "[encoded data removed]",
            "text/plain": [
              "<Figure size 504x288 with 1 Axes>"
            ]
          },
          "metadata": {
            "needs_background": "light"
          }
        }
      ]
    },
    {
      "cell_type": "code",
      "source": [
        "# p-value\n",
        "p_left = stats.chi2.cdf(Hs, df=n - 1)\n",
        "p_right = 1 - stats.chi2.cdf(Hs, df=n - 1)\n",
        "\n",
        "pvalue = 2 * min(p_left, p_right)\n",
        "\n",
        "pvalue"
      ],
      "metadata": {
        "colab": {
          "base_uri": "https://localhost:8080/"
        },
        "id": "R22JHuPmOYLQ",
        "outputId": "aa83afcc-36c6-4639-aaff-caa23f212e6e"
      },
      "execution_count": null,
      "outputs": [
        {
          "output_type": "execute_result",
          "data": {
            "text/plain": [
              "0.37950875392024197"
            ]
          },
          "metadata": {},
          "execution_count": 47
        }
      ]
    },
    {
      "cell_type": "code",
      "source": [
        "# answer\n",
        "1 if pvalue > alpha else 0"
      ],
      "metadata": {
        "colab": {
          "base_uri": "https://localhost:8080/"
        },
        "id": "ZjVzl2UjPk6c",
        "outputId": "d21ad79d-ac8b-4ccd-e562-a3e45b071373"
      },
      "execution_count": null,
      "outputs": [
        {
          "output_type": "execute_result",
          "data": {
            "text/plain": [
              "1"
            ]
          },
          "metadata": {},
          "execution_count": 50
        }
      ]
    },
    {
      "cell_type": "code",
      "source": [
        "# in addition\n",
        "def var_test(x, va0, direction = \"two-tailed\", alpha = 0.05):\n",
        "    n = len(x)\n",
        "    Q = (n - 1) * np.var(x, ddof=1) / va0 \n",
        "    if direction == \"lower\":\n",
        "        q = stats.chi2.ppf(alpha, n - 1)\n",
        "        if Q <= q:\n",
        "            return \"H_0 rejected\"\n",
        "        else:\n",
        "            return \"H_0 not rejected\"\n",
        "    elif direction == \"upper\":\n",
        "        q = stats.chi2.ppf(1 - alpha, n - 1)\n",
        "        if Q >= q:\n",
        "            return \"H_0 rejected\"\n",
        "        else:\n",
        "            return \"H_0 not rejected\"\n",
        "    else:\n",
        "        q1 = stats.chi2.ppf(alpha / 2, n - 1)\n",
        "        q2 = stats.chi2.ppf(1 - (alpha / 2), n - 1)\n",
        "        if Q <= q1 or Q >= q2:\n",
        "            return \"H_0 rejected\"\n",
        "        else:\n",
        "            return \"H_0 not rejected\"\n",
        "var_test(samples, variance)"
      ],
      "metadata": {
        "colab": {
          "base_uri": "https://localhost:8080/",
          "height": 35
        },
        "id": "FEmuoMoCMjue",
        "outputId": "db1aeac9-3be7-4b9b-c681-5fe274303a4b"
      },
      "execution_count": null,
      "outputs": [
        {
          "output_type": "execute_result",
          "data": {
            "application/vnd.google.colaboratory.intrinsic+json": {
              "type": "string"
            },
            "text/plain": [
              "'H_0 not rejected'"
            ]
          },
          "metadata": {},
          "execution_count": 53
        }
      ]
    }
  ]
}