{
  "nbformat": 4,
  "nbformat_minor": 0,
  "metadata": {
    "colab": {
      "name": "stats_lesson7.ipynb",
      "provenance": [],
      "collapsed_sections": []
    },
    "kernelspec": {
      "name": "python3",
      "display_name": "Python 3"
    },
    "language_info": {
      "name": "python"
    }
  },
  "cells": [
    {
      "cell_type": "markdown",
      "source": [
        "__Задача 1__\n",
        "\n",
        "Дана матрица объект-признак\n",
        "```\n",
        "X = [[ 1.22401313,  2.30868478,  3.03636353,  2.69287214],\n",
        "     [-0.18757272,  1.30337355,  5.12093014,  3.46363202],\n",
        "     [-0.81094525,  1.82463398,  5.79686488,  1.86159445],\n",
        "     [ 0.75129018,  2.67392052,  3.65529809,  1.66746094],\n",
        "     [ 0.00972362,  1.97367255,  2.50594319,  1.69755173],\n",
        "     [-0.62972637,  0.77750764,  2.84124027,  4.54410559],\n",
        "     [ 2.29536229,  1.81206697,  1.95026215,  1.51874636],\n",
        "     [ 0.0920418 ,  2.26971361,  7.47708735,  2.61081203],\n",
        "     [ 2.39252799,  3.17563985,  3.61420599,  5.10773362],\n",
        "     [ 0.54983815,  2.87988651,  1.65752765,  1.59635987]]\n",
        "```\n",
        "и значения целевой переменной\n",
        "```\n",
        "y = [ 9.26193358,  9.700363  ,  8.67214805,  8.74796974,  6.18689108,\n",
        "      7.53312713,  7.57643777, 12.44965478, 14.29010746,  6.68361218]\n",
        "```\n",
        "\n",
        "Подберите два признака (из четырёх) так, чтобы уровень линейной зависимости целевой переменной от значений этих признаков был максимальным. Другими словами, модель линейной регрессии на этих признаках должна давать наилучший результат. В качестве ответа запишите значение коэффициента детерминации для модели на этих признаках."
      ],
      "metadata": {
        "id": "xhzkNYu01mJb"
      }
    },
    {
      "cell_type": "markdown",
      "source": [
        "Уравнение модели в матричной форме:\n",
        "$$Y = X \\cdot b + E,$$\n",
        "Задача - минимизировать расстояние между векторами $Y$ и $b \\cdot X$:\n",
        "$$Y и X \\cdot b, :$$\n",
        "$$\\| Y - X \\cdot b \\| \\rightarrow \\min_b$$\n",
        "Аналитической решение: $b = \\left( X^\\top X \\right)^{-1} X^\\top Y$\n",
        "\n",
        "Для оценки качества модели используем коэффициент детерминации: $R^2 = 1 - \\dfrac{SS_{res}}{SS_{y}},$ где $SS_Y = \\sum_{i = 1}^n \\left( y_i - \\overline{Y} \\right)^2$ — сумма квадратов отклонений значений массива $Y$ от среднего, а $SS_{res}$ — _остаточная сумма квадратов_, т.е. сумма квадратов отклонений элементов массива $E$ от их среднего. Также: $R^2 = r_{YZ}^2$, где  $r_{YZ}^2$ - квадрат коэффициента корреляции Пирсона.\n"
      ],
      "metadata": {
        "id": "6h3GC2UUuVmu"
      }
    },
    {
      "cell_type": "code",
      "execution_count": 1,
      "metadata": {
        "id": "JJN8xQEugoC-"
      },
      "outputs": [],
      "source": [
        "import numpy as np\n",
        "import matplotlib.pyplot as plt\n",
        "from scipy import stats\n",
        "from sklearn.linear_model import LinearRegression\n",
        "from sklearn.preprocessing import StandardScaler\n",
        "from sklearn.metrics import r2_score\n",
        "from itertools import combinations"
      ]
    },
    {
      "cell_type": "code",
      "source": [
        "X = np.array([[ 1.22401313,  2.30868478,  3.03636353,  2.69287214],\n",
        "              [-0.18757272,  1.30337355,  5.12093014,  3.46363202],\n",
        "              [-0.81094525,  1.82463398,  5.79686488,  1.86159445],\n",
        "              [ 0.75129018,  2.67392052,  3.65529809,  1.66746094],\n",
        "              [ 0.00972362,  1.97367255,  2.50594319,  1.69755173],\n",
        "              [-0.62972637,  0.77750764,  2.84124027,  4.54410559],\n",
        "              [ 2.29536229,  1.81206697,  1.95026215,  1.51874636],\n",
        "              [ 0.0920418 ,  2.26971361,  7.47708735,  2.61081203],\n",
        "              [ 2.39252799,  3.17563985,  3.61420599,  5.10773362],\n",
        "              [ 0.54983815,  2.87988651,  1.65752765,  1.59635987]])\n",
        "\n",
        "y = np.array([ 9.26193358,  9.700363  ,  8.67214805,  8.74796974,  6.18689108,\n",
        "               7.53312713,  7.57643777, 12.44965478, 14.29010746,  6.68361218])"
      ],
      "metadata": {
        "id": "WQbR3GKi2B3f"
      },
      "execution_count": 49,
      "outputs": []
    },
    {
      "cell_type": "code",
      "source": [
        "def determination_coef(errors: np.ndarray, y_true: np.ndarray, y_pred: np.ndarray) -> float:\n",
        "    square_errors = ((errors - errors.mean()) ** 2).sum()\n",
        "    square_true = ((y_true - y_true.mean()) ** 2).sum()\n",
        "    R = 1 - square_errors / square_true\n",
        "    R_n = np.corrcoef(y_true, y_pred)**2\n",
        "    R_sk = r2_score(y_true, y_pred)\n",
        "    print(f'R2 coef: {R}, R2 coef from sq. cov: {R_n[0,1]}, R2 coef from sklearn: {R_sk}')\n",
        "    return R"
      ],
      "metadata": {
        "id": "Avm3kADt3mjo"
      },
      "execution_count": 3,
      "outputs": []
    },
    {
      "cell_type": "code",
      "source": [
        "def linear_regression(X: np.ndarray, y: np.ndarray, indices: tuple) -> float:\n",
        "    ones = np.ones((X.shape[0], 1))\n",
        "    X = np.hstack((ones, X[:, indices]))\n",
        "    print(f'Number of factors (features): {X.shape[1]-1}, cols: {indices}')\n",
        "    X_ = X.T.dot(X)\n",
        "    X_ = np.linalg.inv(X_)\n",
        "    b = X_.dot(X.T).dot(y)\n",
        "    y_pred = X.dot(b)\n",
        "    errors = y - y_pred\n",
        "    print(f'Mean error: {errors.mean():5f}')\n",
        "    R = determination_coef(errors=errors, y_true=y, y_pred=y_pred)\n",
        "    return R"
      ],
      "metadata": {
        "id": "g_JDB9F32brz"
      },
      "execution_count": 4,
      "outputs": []
    },
    {
      "cell_type": "code",
      "source": [
        "indices = np.arange(4)\n",
        "r_scores = np.array([])\n",
        "subsets = []\n",
        "for idx in combinations(indices, r=X.shape[1]-2):\n",
        "    R = linear_regression(X, y, idx)\n",
        "    r_scores = np.append(r_scores, R)\n",
        "    subsets.append(idx)"
      ],
      "metadata": {
        "colab": {
          "base_uri": "https://localhost:8080/"
        },
        "id": "9gU9h5XR8Ikx",
        "outputId": "f48ffb24-e007-410d-e4ce-f1696f29ae15"
      },
      "execution_count": 5,
      "outputs": [
        {
          "output_type": "stream",
          "name": "stdout",
          "text": [
            "Number of factors (features): 2, cols: (0, 1)\n",
            "Mean error: 0.000000\n",
            "R2 coef: 0.18113594742585215, R2 coef from sq. cov: 0.18113594742585226, R2 coef from sklearn: 0.18113594742585215\n",
            "Number of factors (features): 2, cols: (0, 2)\n",
            "Mean error: -0.000000\n",
            "R2 coef: 0.7634246238793151, R2 coef from sq. cov: 0.763424623879315, R2 coef from sklearn: 0.7634246238793151\n",
            "Number of factors (features): 2, cols: (0, 3)\n",
            "Mean error: 0.000000\n",
            "R2 coef: 0.4532966783144077, R2 coef from sq. cov: 0.45329667831440773, R2 coef from sklearn: 0.4532966783144077\n",
            "Number of factors (features): 2, cols: (1, 2)\n",
            "Mean error: 0.000000\n",
            "R2 coef: 0.5479482734039008, R2 coef from sq. cov: 0.5479482734039008, R2 coef from sklearn: 0.5479482734039008\n",
            "Number of factors (features): 2, cols: (1, 3)\n",
            "Mean error: 0.000000\n",
            "R2 coef: 0.6062055761129932, R2 coef from sq. cov: 0.6062055761129934, R2 coef from sklearn: 0.6062055761129932\n",
            "Number of factors (features): 2, cols: (2, 3)\n",
            "Mean error: -0.000000\n",
            "R2 coef: 0.622441987650532, R2 coef from sq. cov: 0.6224419876505323, R2 coef from sklearn: 0.6224419876505322\n"
          ]
        }
      ]
    },
    {
      "cell_type": "code",
      "source": [
        "subsets[np.argmax(r_scores)]"
      ],
      "metadata": {
        "colab": {
          "base_uri": "https://localhost:8080/"
        },
        "id": "-lcdPZSF9Q-m",
        "outputId": "5ccd66d1-77dd-4629-f2b7-ac9c419b62aa"
      },
      "execution_count": 6,
      "outputs": [
        {
          "output_type": "execute_result",
          "data": {
            "text/plain": [
              "(0, 2)"
            ]
          },
          "metadata": {},
          "execution_count": 6
        }
      ]
    },
    {
      "cell_type": "code",
      "source": [
        "linear_regression(StandardScaler().fit_transform(X), y, (0,2))  # looks like features were already scaled in X"
      ],
      "metadata": {
        "colab": {
          "base_uri": "https://localhost:8080/"
        },
        "id": "fzkqNpMH-SxK",
        "outputId": "1d3de636-19a8-487a-9fd0-eb8a0a9d97b9"
      },
      "execution_count": 47,
      "outputs": [
        {
          "output_type": "stream",
          "name": "stdout",
          "text": [
            "Number of factors (features): 2, cols: (0, 2)\n",
            "Mean error: -0.000000\n",
            "R2 coef: 0.7634246238793152, R2 coef from sq. cov: 0.7634246238793152, R2 coef from sklearn: 0.7634246238793152\n"
          ]
        },
        {
          "output_type": "execute_result",
          "data": {
            "text/plain": [
              "0.7634246238793152"
            ]
          },
          "metadata": {},
          "execution_count": 47
        }
      ]
    },
    {
      "cell_type": "code",
      "source": [
        "# check the solution\n",
        "regr = LinearRegression()\n",
        "regr.fit(X[:, (0,2)], y)\n",
        "y_pred = regr.predict(X[:, (0,2)])\n",
        "r2_score(y, y_pred)"
      ],
      "metadata": {
        "colab": {
          "base_uri": "https://localhost:8080/"
        },
        "id": "98x3pQYr-zVr",
        "outputId": "d5c2b004-b696-463f-a0a9-a8e092628618"
      },
      "execution_count": 48,
      "outputs": [
        {
          "output_type": "execute_result",
          "data": {
            "text/plain": [
              "0.7634246238793152"
            ]
          },
          "metadata": {},
          "execution_count": 48
        }
      ]
    },
    {
      "cell_type": "markdown",
      "source": [
        "Коэффициент детерминации: $0.76342462$"
      ],
      "metadata": {
        "id": "fDbk5auUGula"
      }
    },
    {
      "cell_type": "markdown",
      "source": [
        "__Задача 2__\n",
        "\n",
        "Является ли значимым уравнение регрессии, полученное в предыдущей задаче? В качестве ответа запишите 1, если является, и 0 иначе."
      ],
      "metadata": {
        "id": "xWBsPOT4_UAB"
      }
    },
    {
      "cell_type": "markdown",
      "source": [
        "Для данной цели используется $F-тест$\n",
        "\n",
        "При $F-тесте$ используется статистика:\n",
        "$$F = \\dfrac{R^2 / m}{(1 - R^2) / (n - m - 1)},$$\n",
        "где $R^2$ — коэффициент детерминации, $n$ — число наблюдений, $m$ — число факторов. Такая статистика в предположении верности нулевой гипотезы (о том, что коэффициент детерминации $R^2$ равен 0) имеет __F-распределение Фишера__ с параметрами $k_1 = m$, $k_2 = n - m - 1$."
      ],
      "metadata": {
        "id": "_fsY8o89_j0X"
      }
    },
    {
      "cell_type": "code",
      "source": [
        "n = X.shape[0]\n",
        "m = 2\n",
        "k1 = m\n",
        "k2 = n - m - 1\n",
        "k1, k2"
      ],
      "metadata": {
        "colab": {
          "base_uri": "https://localhost:8080/"
        },
        "id": "dMjwd9p__XQ_",
        "outputId": "20a72072-374e-4164-b573-61ed9464a3f9"
      },
      "execution_count": 26,
      "outputs": [
        {
          "output_type": "execute_result",
          "data": {
            "text/plain": [
              "(2, 7)"
            ]
          },
          "metadata": {},
          "execution_count": 26
        }
      ]
    },
    {
      "cell_type": "code",
      "source": [
        "# significance level and quantile\n",
        "alpha = 0.05\n",
        "t = stats.f.ppf(1 - alpha, k1, k2)\n",
        "t"
      ],
      "metadata": {
        "colab": {
          "base_uri": "https://localhost:8080/"
        },
        "id": "7MMjWuJoAZP2",
        "outputId": "686a1ca9-dcf9-45fa-eb91-f5bf0daf1b5f"
      },
      "execution_count": 27,
      "outputs": [
        {
          "output_type": "execute_result",
          "data": {
            "text/plain": [
              "4.73741412777588"
            ]
          },
          "metadata": {},
          "execution_count": 27
        }
      ]
    },
    {
      "cell_type": "code",
      "source": [
        "ox = np.linspace(2, 7, 500)\n",
        "oy = stats.f.pdf(ox, k1, k2)\n",
        "\n",
        "ox_right = np.linspace(t, 7, 100)\n",
        "oy_right = stats.f.pdf(ox_right, k1, k2)\n",
        "\n",
        "plt.title('F-statistic distribution')\n",
        "plt.plot(ox, oy)\n",
        "plt.fill_between(ox_right, oy_right, alpha=0.5)\n",
        "plt.grid()\n",
        "plt.show()"
      ],
      "metadata": {
        "colab": {
          "base_uri": "https://localhost:8080/",
          "height": 281
        },
        "id": "isf90awZApVg",
        "outputId": "909ed1eb-c9fc-4555-f6f3-019bf524b03f"
      },
      "execution_count": 28,
      "outputs": [
        {
          "output_type": "display_data",
          "data": {
            "image/png": "[encoded data removed]",
            "text/plain": [
              "<Figure size 432x288 with 1 Axes>"
            ]
          },
          "metadata": {
            "needs_background": "light"
          }
        }
      ]
    },
    {
      "cell_type": "code",
      "source": [
        "# statistic value\n",
        "R = linear_regression(X, y, (0,2))\n",
        "F = (R / k1) / ((1 - R) / k2)\n",
        "F"
      ],
      "metadata": {
        "colab": {
          "base_uri": "https://localhost:8080/"
        },
        "id": "5FPxR7vwA9T_",
        "outputId": "2b732d9b-3623-47c2-d7d0-f48d72fee4e6"
      },
      "execution_count": 29,
      "outputs": [
        {
          "output_type": "stream",
          "name": "stdout",
          "text": [
            "Number of factors (features): 2, cols: (0, 2)\n",
            "Mean error: -0.000000\n",
            "R2 coef: 0.7634246238793151, R2 coef from sq. cov: 0.763424623879315, R2 coef from sklearn: 0.7634246238793151\n"
          ]
        },
        {
          "output_type": "execute_result",
          "data": {
            "text/plain": [
              "11.294439122922642"
            ]
          },
          "metadata": {},
          "execution_count": 29
        }
      ]
    },
    {
      "cell_type": "code",
      "source": [
        "'H_0 is true' if F < t else 'H_1 is true, H_0 rejected'  # H_1 that R^2 is not equal 0 "
      ],
      "metadata": {
        "colab": {
          "base_uri": "https://localhost:8080/",
          "height": 35
        },
        "id": "Dx39UzCoBkyS",
        "outputId": "aa51863b-8cb7-4e84-f7fc-05179fb51c82"
      },
      "execution_count": 13,
      "outputs": [
        {
          "output_type": "execute_result",
          "data": {
            "application/vnd.google.colaboratory.intrinsic+json": {
              "type": "string"
            },
            "text/plain": [
              "'H_1 is true, H_0 rejected'"
            ]
          },
          "metadata": {},
          "execution_count": 13
        }
      ]
    },
    {
      "cell_type": "code",
      "source": [
        "p_value = 1 - stats.f.cdf(F, dfn=k1, dfd=k2)  # for one-sided critical area\n",
        "p_value  # p-value < alpha => the model is statistically significant: H_1, ANSWER: 1"
      ],
      "metadata": {
        "colab": {
          "base_uri": "https://localhost:8080/"
        },
        "id": "JdB-L1cRC9LH",
        "outputId": "5aee0d1e-2af7-4fcf-c0ff-bc081c88d6aa"
      },
      "execution_count": 14,
      "outputs": [
        {
          "output_type": "execute_result",
          "data": {
            "text/plain": [
              "0.006440111511545332"
            ]
          },
          "metadata": {},
          "execution_count": 14
        }
      ]
    },
    {
      "cell_type": "markdown",
      "source": [
        "Модель статистически значима, ответ: 1"
      ],
      "metadata": {
        "id": "U5Q9nEc1GnB7"
      }
    },
    {
      "cell_type": "markdown",
      "source": [
        "Доверительные интервалы для каждого фактора (признака). К задаче не относится"
      ],
      "metadata": {
        "id": "jOGKMipWFdyL"
      }
    },
    {
      "cell_type": "code",
      "source": [
        "# optional: confidence intervals for given factors separately\n",
        "def pair_lr(x: np.ndarray, y: np.ndarray) -> tuple:\n",
        "    b1 = np.cov(x, y, ddof=1)[0, 1] / np.var(x, ddof=1)\n",
        "    b0 = y.mean() - b1 * x.mean()\n",
        "    z = b0 + b1 * x\n",
        "    e = y - z\n",
        "    return b1, b0, z, e\n",
        "\n",
        "def standard_error_slope(x: np.ndarray, y: np.ndarray, z: np.ndarray) -> float:\n",
        "    n = x.shape[0]\n",
        "    upper = ((y - z) ** 2).sum() / (n - 2)\n",
        "    lower = ((x - x.mean()) ** 2).sum()  \n",
        "    return np.sqrt(upper / lower)\n",
        "\n",
        "def get_interval(x: np.ndarray, y: np.ndarray, alpha=0.05) -> tuple:\n",
        "    b1, b0, z, _ = pair_lr(x, y)\n",
        "    s_slope = standard_error_slope(x, y, z)\n",
        "    n = x.shape[0]\n",
        "    t1 = stats.t.ppf(alpha / 2, df=n - 2)\n",
        "    t2 = stats.t.ppf(1 - alpha / 2, df=n - 2)\n",
        "    b1_lower, b1_upper = (b1 + t1 * s_slope, b1 + t2 * s_slope)\n",
        "    return b0, b1, b1_lower, b1_upper"
      ],
      "metadata": {
        "id": "JZgDlt1Z30P5"
      },
      "execution_count": 59,
      "outputs": []
    },
    {
      "cell_type": "code",
      "source": [
        "plt.figure(figsize=(18, 8))\n",
        "for i in range(4):\n",
        "    plt.subplot(2, 3, i+1)\n",
        "    plt.title(f'Factor: {i+1}, R^2: {(np.corrcoef(X[:, i], y) ** 2)[0,1]:.4f}')\n",
        "    b0, b1, b1_lower, b1_upper = get_interval(X[:, i], y)\n",
        "    plt.scatter(X[:, i], y)\n",
        "    ox = X[:, i].copy()\n",
        "    ox.sort()\n",
        "    plt.grid(ls='dotted')\n",
        "    plt.plot(ox, b0 + b1 * ox, color='C3', alpha=0.5)\n",
        "    plt.fill_between(ox, b0 + b1_lower * ox, b0 + b1_upper * ox, color='C3', alpha=0.15)\n",
        "plt.show()"
      ],
      "metadata": {
        "colab": {
          "base_uri": "https://localhost:8080/",
          "height": 499
        },
        "id": "PZm9ylxg-mNU",
        "outputId": "1b256c08-c906-4eda-a018-0146554fade4"
      },
      "execution_count": 60,
      "outputs": [
        {
          "output_type": "display_data",
          "data": {
            "image/png": "[encoded data removed]",
            "text/plain": [
              "<Figure size 1296x576 with 4 Axes>"
            ]
          },
          "metadata": {
            "needs_background": "light"
          }
        }
      ]
    },
    {
      "cell_type": "markdown",
      "source": [
        "__Задача 3__\n",
        "\n",
        "Для проведения A/B-тестирования сайта интернет-магазина были получены следующие данные: страница `A` была посещена 2509 раз, из них 77 закончились совершением покупки, страница `B` была посещена 1465 раз, 60 из них закончились совершением покупки. Является ли значимым отличие конверсии на страницах `A` и `B`? В качестве ответа запишите 1, если является, и 0 иначе.\n",
        "\n",
        "_Подсказка_. Реализуйте двухвыборочный t-тест. В качестве выборок здесь можно взять наборы меток совершения покупки (0 или 1) каждым посетителем."
      ],
      "metadata": {
        "id": "Xrg2FKZJL7kb"
      }
    },
    {
      "cell_type": "markdown",
      "source": [
        "Требуется проверить гипотезу о том, что математические ожидания двух соответствующих распределений равны, т.е.\n",
        "$H_0: \\: M(D_1) = M(D_2)$, т.е. выборки принадлежат одной генеральной совокупности.\n",
        "\n",
        "Используем статистику: $t = \\dfrac{\\overline{X_1} - \\overline{X_2}}{\\sigma_\\Delta}$, имеющую распределение Стьюдента.\n",
        "Тогда: \n",
        "$$\\sigma_\\Delta = \\sqrt{\\dfrac{\\sigma_{X_1}^2}{n_1} + \\dfrac{\\sigma_{X_2}^2}{n_2}},$$\n",
        "$$df = \\dfrac{\\left( \\dfrac{\\sigma_{X_1}^2}{n_1} + \\dfrac{\\sigma_{X_2}^2}{n_2} \\right)^2}{\\dfrac{\\left( \\sigma_{X_1}^2 / n_1 \\right)^2}{n_1 - 1} + \\dfrac{\\left( \\sigma_{X_2}^2 / n_2 \\right)^2}{n_2 - 1}}$$"
      ],
      "metadata": {
        "id": "d3CAaMXwyqXo"
      }
    },
    {
      "cell_type": "code",
      "source": [
        "A = np.zeros((2509,))\n",
        "B = np.zeros((1465,))\n",
        "A[-77:] = 1\n",
        "B[-60:] = 1\n",
        "A.mean(), B.mean()"
      ],
      "metadata": {
        "colab": {
          "base_uri": "https://localhost:8080/"
        },
        "id": "DezfkLBxL2xA",
        "outputId": "27c09b09-851b-45ae-d448-6de5d678f026"
      },
      "execution_count": 21,
      "outputs": [
        {
          "output_type": "execute_result",
          "data": {
            "text/plain": [
              "(0.03068951773614986, 0.040955631399317405)"
            ]
          },
          "metadata": {},
          "execution_count": 21
        }
      ]
    },
    {
      "cell_type": "code",
      "source": [
        "n1 = A.size\n",
        "n2 = B.size\n",
        "\n",
        "s1 = A.std(ddof=1)\n",
        "s2 = B.std(ddof=1)"
      ],
      "metadata": {
        "id": "efoBdO6ON-W6"
      },
      "execution_count": 16,
      "outputs": []
    },
    {
      "cell_type": "code",
      "source": [
        "s_delta = np.sqrt(s1 ** 2 / n1 + s2 ** 2 / n2)\n",
        "s_delta"
      ],
      "metadata": {
        "colab": {
          "base_uri": "https://localhost:8080/"
        },
        "id": "pjSjPXXAOGrF",
        "outputId": "4b1b95ae-5268-40a4-ad6f-bfe15ee0f867"
      },
      "execution_count": 17,
      "outputs": [
        {
          "output_type": "execute_result",
          "data": {
            "text/plain": [
              "0.006220171278295827"
            ]
          },
          "metadata": {},
          "execution_count": 17
        }
      ]
    },
    {
      "cell_type": "code",
      "source": [
        "t = (A.mean() - B.mean()) / s_delta\n",
        "t"
      ],
      "metadata": {
        "colab": {
          "base_uri": "https://localhost:8080/"
        },
        "id": "_S8GS4vlOMUl",
        "outputId": "a6e84ce7-9d02-40ec-dc6b-198d850fd9fd"
      },
      "execution_count": 18,
      "outputs": [
        {
          "output_type": "execute_result",
          "data": {
            "text/plain": [
              "-1.6504551408398205"
            ]
          },
          "metadata": {},
          "execution_count": 18
        }
      ]
    },
    {
      "cell_type": "code",
      "source": [
        "df = (s1 ** 2 / n1 + s2 ** 2 / n2) ** 2 / \\\n",
        "    ((s1 ** 2 / n1) ** 2 / (n1 - 1) + (s2 ** 2 / n2) ** 2 / (n2 - 1))\n",
        "\n",
        "df"
      ],
      "metadata": {
        "colab": {
          "base_uri": "https://localhost:8080/"
        },
        "id": "dFxmIB2XOXD7",
        "outputId": "e144f96f-ecd1-499b-b786-e5344e9781bc"
      },
      "execution_count": 19,
      "outputs": [
        {
          "output_type": "execute_result",
          "data": {
            "text/plain": [
              "2732.8025644352133"
            ]
          },
          "metadata": {},
          "execution_count": 19
        }
      ]
    },
    {
      "cell_type": "code",
      "source": [
        "alpha = 0.05\n",
        "\n",
        "t1 = stats.t.ppf(alpha / 2, df=df)\n",
        "t2 = stats.t.ppf(1 - alpha / 2, df=df)\n",
        "\n",
        "t1, t2"
      ],
      "metadata": {
        "colab": {
          "base_uri": "https://localhost:8080/"
        },
        "id": "2HWEjnU5Oda1",
        "outputId": "4c6fa5f9-4cb9-4050-b99b-63741a1a0bc4"
      },
      "execution_count": 20,
      "outputs": [
        {
          "output_type": "execute_result",
          "data": {
            "text/plain": [
              "(-1.9608324352746576, 1.9608324352746571)"
            ]
          },
          "metadata": {},
          "execution_count": 20
        }
      ]
    },
    {
      "cell_type": "code",
      "source": [
        "'H_0 that M(A) = M(B)' if t < t2 and t > t1 else 'H_1: samples were taken from different distributions'"
      ],
      "metadata": {
        "colab": {
          "base_uri": "https://localhost:8080/",
          "height": 35
        },
        "id": "yla28APLOilc",
        "outputId": "cdc4fb1c-91a2-4fb7-8d14-727dc4088c1f"
      },
      "execution_count": 22,
      "outputs": [
        {
          "output_type": "execute_result",
          "data": {
            "application/vnd.google.colaboratory.intrinsic+json": {
              "type": "string"
            },
            "text/plain": [
              "'H_0 that M(A) = M(B)'"
            ]
          },
          "metadata": {},
          "execution_count": 22
        }
      ]
    },
    {
      "cell_type": "code",
      "source": [
        "ox = np.linspace(-5, 5, 500)\n",
        "oy = stats.t.pdf(ox, df=df)\n",
        "\n",
        "ox_left = np.linspace(-5, t1, 100)\n",
        "oy_left = stats.t.pdf(ox_left, df=df)\n",
        "\n",
        "ox_right = np.linspace(t2, 5, 100)\n",
        "oy_right = stats.t.pdf(ox_right, df=df)\n",
        "\n",
        "plt.figure(figsize=(7,4))\n",
        "plt.plot(ox, oy)\n",
        "plt.axvline(t, ls='--', lw=1.5, c='r', label=f'Statistic = {t:5f}')\n",
        "hyp = 'The H_0 is true' if t < t2 and t > t1 else 'H_1 is true'\n",
        "plt.title(hyp)\n",
        "plt.fill_between(ox_left, oy_left, alpha=0.5, color='C0')\n",
        "plt.fill_between(ox_right, oy_right, alpha=0.5, color='C0')\n",
        "plt.xlabel('Statistic values')\n",
        "plt.ylabel('Density function')\n",
        "plt.grid()\n",
        "plt.legend(loc='upper right')\n",
        "plt.show()"
      ],
      "metadata": {
        "colab": {
          "base_uri": "https://localhost:8080/",
          "height": 295
        },
        "id": "EyNu6q9lPjoV",
        "outputId": "19ad08fe-df07-437f-e8e3-184c1b47c8e9"
      },
      "execution_count": 23,
      "outputs": [
        {
          "output_type": "display_data",
          "data": {
            "image/png": "[encoded data removed]",
            "text/plain": [
              "<Figure size 504x288 with 1 Axes>"
            ]
          },
          "metadata": {
            "needs_background": "light"
          }
        }
      ]
    },
    {
      "cell_type": "code",
      "source": [
        "p_left = stats.t.cdf(t, df=df)\n",
        "p_right = 1 - stats.t.cdf(t, df=df)\n",
        "\n",
        "pvalue = 2 * min(p_left, p_right)\n",
        "\n",
        "print(f'P-value for test: {pvalue:4f}')\n",
        "print(f'H_0 is true' if pvalue > alpha else 'H_1 is true, H_0 rejected')"
      ],
      "metadata": {
        "colab": {
          "base_uri": "https://localhost:8080/"
        },
        "id": "hljM6tgAPQ7Y",
        "outputId": "789ff7fe-fb94-478e-fa79-3d738cda5a63"
      },
      "execution_count": 24,
      "outputs": [
        {
          "output_type": "stream",
          "name": "stdout",
          "text": [
            "P-value for test: 0.098965\n",
            "H_0 is true\n"
          ]
        }
      ]
    },
    {
      "cell_type": "code",
      "source": [
        "stats.ttest_ind(A, B, equal_var=False)"
      ],
      "metadata": {
        "colab": {
          "base_uri": "https://localhost:8080/"
        },
        "id": "uFKFlPrXNhq4",
        "outputId": "922b9d83-40d6-4bed-c5ec-5bb205cf8ee7"
      },
      "execution_count": 25,
      "outputs": [
        {
          "output_type": "execute_result",
          "data": {
            "text/plain": [
              "Ttest_indResult(statistic=-1.6504551408398205, pvalue=0.09896479217925898)"
            ]
          },
          "metadata": {},
          "execution_count": 25
        }
      ]
    },
    {
      "cell_type": "markdown",
      "source": [
        "Значит отличие конверсии на страницах `A` и `B` не является значимым для заданного уровня значимости $\\alpha = 0.05$. Ответ: $0$"
      ],
      "metadata": {
        "id": "R6yuJGz70iLM"
      }
    }
  ]
}