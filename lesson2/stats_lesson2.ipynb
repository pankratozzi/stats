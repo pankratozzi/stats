{
  "nbformat": 4,
  "nbformat_minor": 0,
  "metadata": {
    "colab": {
      "name": "stats_lesson2.ipynb",
      "provenance": [],
      "collapsed_sections": []
    },
    "kernelspec": {
      "name": "python3",
      "display_name": "Python 3"
    },
    "language_info": {
      "name": "python"
    }
  },
  "cells": [
    {
      "cell_type": "markdown",
      "source": [
        "###Задачи 1 и 2\n",
        "\n",
        "Контрольная работа состоит из пяти вопросов. На каждый вопрос приведено четыре варианта ответа, один из которых правильный. Случайная величина X задаёт число правильных ответов при простом угадывании. Найдите математическое ожидание данной случайной величины. Найдите дисперсию случайной величины X.\n",
        "\n",
        "Подсказка: постройте закон распределения случайной величины X."
      ],
      "metadata": {
        "id": "7mjwPv0y7FYO"
      }
    },
    {
      "cell_type": "markdown",
      "source": [
        "Дискретная величина $X$ принимает следующие значения: $\\{0, 1, 2, 3, 4, 5\\},$\n",
        "\n",
        "Количество вопросов: $n = 5,$\n",
        "\n",
        "Вероятность случайно угадать ответ: $\\dfrac{1}{4},$\n",
        "\n",
        "Для вычисления вероятности каждого дискретного значения используем формулу Бернулли: $P(X=k) = C_n^k \\cdot p^k \\cdot (1 - p)^{n - k},$\n",
        "\n",
        "Математическое ожидание и дисперсия данного биномиального распределения: $$M(X) = np, \\: D(X) = np(1 - p).$$\n"
      ],
      "metadata": {
        "id": "mzcFnEmV7Lol"
      }
    },
    {
      "cell_type": "code",
      "execution_count": 1,
      "metadata": {
        "id": "kwU98QJZ63Vg"
      },
      "outputs": [],
      "source": [
        "import numpy as np\n",
        "import pandas as pd\n",
        "import matplotlib.pyplot as plt\n",
        "\n",
        "def combinations(n: int, k: int) -> int:\n",
        "    return np.math.factorial(n) // (np.math.factorial(k) * np.math.factorial(n - k))\n",
        "\n",
        "N = 5"
      ]
    },
    {
      "cell_type": "code",
      "source": [
        "probs = np.array([])\n",
        "X = np.arange(N+1)\n",
        "for k in range(N+1):\n",
        "    x = combinations(N, k) * np.power(0.25, k) * np.power(0.75, N-k)\n",
        "    probs = np.append(probs, x)\n",
        "table = pd.DataFrame({'Value': X, 'Probability': probs})\n",
        "table.Value = table.Value.astype(np.uint8)\n",
        "table.transpose()"
      ],
      "metadata": {
        "colab": {
          "base_uri": "https://localhost:8080/",
          "height": 112
        },
        "id": "nhV8Zfo88yUN",
        "outputId": "9b21b6d3-5e84-4233-9a07-a9f4725171a2"
      },
      "execution_count": 2,
      "outputs": [
        {
          "output_type": "execute_result",
          "data": {
            "text/html": [
              "\n",
              "  <div id=\"df-02a67cc0-d2b3-42a2-93d1-daa6764f654a\">\n",
              "    <div class=\"colab-df-container\">\n",
              "      <div>\n",
              "<style scoped>\n",
              "    .dataframe tbody tr th:only-of-type {\n",
              "        vertical-align: middle;\n",
              "    }\n",
              "\n",
              "    .dataframe tbody tr th {\n",
              "        vertical-align: top;\n",
              "    }\n",
              "\n",
              "    .dataframe thead th {\n",
              "        text-align: right;\n",
              "    }\n",
              "</style>\n",
              "<table border=\"1\" class=\"dataframe\">\n",
              "  <thead>\n",
              "    <tr style=\"text-align: right;\">\n",
              "      <th></th>\n",
              "      <th>0</th>\n",
              "      <th>1</th>\n",
              "      <th>2</th>\n",
              "      <th>3</th>\n",
              "      <th>4</th>\n",
              "      <th>5</th>\n",
              "    </tr>\n",
              "  </thead>\n",
              "  <tbody>\n",
              "    <tr>\n",
              "      <th>Value</th>\n",
              "      <td>0.000000</td>\n",
              "      <td>1.000000</td>\n",
              "      <td>2.000000</td>\n",
              "      <td>3.000000</td>\n",
              "      <td>4.000000</td>\n",
              "      <td>5.000000</td>\n",
              "    </tr>\n",
              "    <tr>\n",
              "      <th>Probability</th>\n",
              "      <td>0.237305</td>\n",
              "      <td>0.395508</td>\n",
              "      <td>0.263672</td>\n",
              "      <td>0.087891</td>\n",
              "      <td>0.014648</td>\n",
              "      <td>0.000977</td>\n",
              "    </tr>\n",
              "  </tbody>\n",
              "</table>\n",
              "</div>\n",
              "      <button class=\"colab-df-convert\" onclick=\"convertToInteractive('df-02a67cc0-d2b3-42a2-93d1-daa6764f654a')\"\n",
              "              title=\"Convert this dataframe to an interactive table.\"\n",
              "              style=\"display:none;\">\n",
              "        \n",
              "  <svg xmlns=\"http://www.w3.org/2000/svg\" height=\"24px\"viewBox=\"0 0 24 24\"\n",
              "       width=\"24px\">\n",
              "    <path d=\"M0 0h24v24H0V0z\" fill=\"none\"/>\n",
              "    <path d=\"M18.56 5.44l.94 2.06.94-2.06 2.06-.94-2.06-.94-.94-2.06-.94 2.06-2.06.94zm-11 1L8.5 8.5l.94-2.06 2.06-.94-2.06-.94L8.5 2.5l-.94 2.06-2.06.94zm10 10l.94 2.06.94-2.06 2.06-.94-2.06-.94-.94-2.06-.94 2.06-2.06.94z\"/><path d=\"M17.41 7.96l-1.37-1.37c-.4-.4-.92-.59-1.43-.59-.52 0-1.04.2-1.43.59L10.3 9.45l-7.72 7.72c-.78.78-.78 2.05 0 2.83L4 21.41c.39.39.9.59 1.41.59.51 0 1.02-.2 1.41-.59l7.78-7.78 2.81-2.81c.8-.78.8-2.07 0-2.86zM5.41 20L4 18.59l7.72-7.72 1.47 1.35L5.41 20z\"/>\n",
              "  </svg>\n",
              "      </button>\n",
              "      \n",
              "  <style>\n",
              "    .colab-df-container {\n",
              "      display:flex;\n",
              "      flex-wrap:wrap;\n",
              "      gap: 12px;\n",
              "    }\n",
              "\n",
              "    .colab-df-convert {\n",
              "      background-color: #E8F0FE;\n",
              "      border: none;\n",
              "      border-radius: 50%;\n",
              "      cursor: pointer;\n",
              "      display: none;\n",
              "      fill: #1967D2;\n",
              "      height: 32px;\n",
              "      padding: 0 0 0 0;\n",
              "      width: 32px;\n",
              "    }\n",
              "\n",
              "    .colab-df-convert:hover {\n",
              "      background-color: #E2EBFA;\n",
              "      box-shadow: 0px 1px 2px rgba(60, 64, 67, 0.3), 0px 1px 3px 1px rgba(60, 64, 67, 0.15);\n",
              "      fill: #174EA6;\n",
              "    }\n",
              "\n",
              "    [theme=dark] .colab-df-convert {\n",
              "      background-color: #3B4455;\n",
              "      fill: #D2E3FC;\n",
              "    }\n",
              "\n",
              "    [theme=dark] .colab-df-convert:hover {\n",
              "      background-color: #434B5C;\n",
              "      box-shadow: 0px 1px 3px 1px rgba(0, 0, 0, 0.15);\n",
              "      filter: drop-shadow(0px 1px 2px rgba(0, 0, 0, 0.3));\n",
              "      fill: #FFFFFF;\n",
              "    }\n",
              "  </style>\n",
              "\n",
              "      <script>\n",
              "        const buttonEl =\n",
              "          document.querySelector('#df-02a67cc0-d2b3-42a2-93d1-daa6764f654a button.colab-df-convert');\n",
              "        buttonEl.style.display =\n",
              "          google.colab.kernel.accessAllowed ? 'block' : 'none';\n",
              "\n",
              "        async function convertToInteractive(key) {\n",
              "          const element = document.querySelector('#df-02a67cc0-d2b3-42a2-93d1-daa6764f654a');\n",
              "          const dataTable =\n",
              "            await google.colab.kernel.invokeFunction('convertToInteractive',\n",
              "                                                     [key], {});\n",
              "          if (!dataTable) return;\n",
              "\n",
              "          const docLinkHtml = 'Like what you see? Visit the ' +\n",
              "            '<a target=\"_blank\" href=https://colab.research.google.com/notebooks/data_table.ipynb>data table notebook</a>'\n",
              "            + ' to learn more about interactive tables.';\n",
              "          element.innerHTML = '';\n",
              "          dataTable['output_type'] = 'display_data';\n",
              "          await google.colab.output.renderOutput(dataTable, element);\n",
              "          const docLink = document.createElement('div');\n",
              "          docLink.innerHTML = docLinkHtml;\n",
              "          element.appendChild(docLink);\n",
              "        }\n",
              "      </script>\n",
              "    </div>\n",
              "  </div>\n",
              "  "
            ],
            "text/plain": [
              "                    0         1         2         3         4         5\n",
              "Value        0.000000  1.000000  2.000000  3.000000  4.000000  5.000000\n",
              "Probability  0.237305  0.395508  0.263672  0.087891  0.014648  0.000977"
            ]
          },
          "metadata": {},
          "execution_count": 2
        }
      ]
    },
    {
      "cell_type": "code",
      "source": [
        "np.sum(table.Probability)  # check if sum of probas == 1"
      ],
      "metadata": {
        "colab": {
          "base_uri": "https://localhost:8080/"
        },
        "id": "KK3cLw2K86yv",
        "outputId": "9faf5135-713c-4677-fbbb-7b6ff9f93379"
      },
      "execution_count": 3,
      "outputs": [
        {
          "output_type": "execute_result",
          "data": {
            "text/plain": [
              "1.0"
            ]
          },
          "metadata": {},
          "execution_count": 3
        }
      ]
    },
    {
      "cell_type": "markdown",
      "source": [
        "Распределение $X$:\n",
        "<table border=\"3\">\n",
        "    <tr>\n",
        "        <th>$x$</th>\n",
        "        <td>$0$</td>\n",
        "        <td>$1$</td>\n",
        "        <td>$2$</td>\n",
        "        <td>$3$</td>\n",
        "        <td>$4$</td>\n",
        "        <td>$5$</td>\n",
        "</tr>\n",
        "    <tr>\n",
        "        <th>$P(X=x)$</th>\n",
        "        <td>$0.237305$</td>\n",
        "        <td>$0.395508$</td>\n",
        "        <td>$0.263672$</td>\n",
        "        <td>$0.087891$</td>\n",
        "        <td>$0.014648$</td>\n",
        "        <td>$0.000977$</td>\n",
        "    </tr>\n",
        "</table>\n",
        "\t\t\t\t\t"
      ],
      "metadata": {
        "id": "aBRWxyrd-WeD"
      }
    },
    {
      "cell_type": "code",
      "source": [
        "M = N * 0.25  # expected value\n",
        "D = N * 0.25 * 0.75  # variance\n",
        "M, D"
      ],
      "metadata": {
        "colab": {
          "base_uri": "https://localhost:8080/"
        },
        "id": "8XxKs2P29IxC",
        "outputId": "eb50f88b-efd7-4b26-e233-f643edef0580"
      },
      "execution_count": 4,
      "outputs": [
        {
          "output_type": "execute_result",
          "data": {
            "text/plain": [
              "(1.25, 0.9375)"
            ]
          },
          "metadata": {},
          "execution_count": 4
        }
      ]
    },
    {
      "cell_type": "code",
      "source": [
        "plt.plot(X, probs, label='Binomial Distribution', marker='*')\n",
        "plt.axvline(M, linestyle='--', color='red', lw=2, label='Expected value')\n",
        "plt.title('Distribution')\n",
        "plt.xlabel('Discrete values of X')\n",
        "plt.ylabel('Probabilities of X')\n",
        "plt.grid()\n",
        "plt.legend()\n",
        "plt.show()"
      ],
      "metadata": {
        "colab": {
          "base_uri": "https://localhost:8080/",
          "height": 295
        },
        "id": "diV7WzeG99vs",
        "outputId": "26652cab-2d16-4c28-b131-ef472080f9e3"
      },
      "execution_count": 91,
      "outputs": [
        {
          "output_type": "display_data",
          "data": {
            "image/png": "[encoded data removed]",
            "text/plain": [
              "<Figure size 432x288 with 1 Axes>"
            ]
          },
          "metadata": {
            "needs_background": "light"
          }
        }
      ]
    },
    {
      "cell_type": "markdown",
      "source": [
        "Проверим по общей формуле математического ожидания: $M(X) = \\displaystyle \\sum_i p_i x_i = p_1 x_1 + p_2 x_2 + \\dots $\n",
        "\n",
        "И по формуле для дисперсии соответственно: $D(X) = M \\left( (X - M(X))^2 \\right).$"
      ],
      "metadata": {
        "id": "sVK0lEfUPN4E"
      }
    },
    {
      "cell_type": "code",
      "source": [
        "M = sum(p*x for p, x in zip(probs, X))  # expected value\n",
        "M"
      ],
      "metadata": {
        "colab": {
          "base_uri": "https://localhost:8080/"
        },
        "id": "xoLvJHRCPLQ_",
        "outputId": "e3acc1d3-ab86-4101-fb55-25e057dd0006"
      },
      "execution_count": 6,
      "outputs": [
        {
          "output_type": "execute_result",
          "data": {
            "text/plain": [
              "1.25"
            ]
          },
          "metadata": {},
          "execution_count": 6
        }
      ]
    },
    {
      "cell_type": "code",
      "source": [
        "(np.power(X - M, 2) * probs).sum()  # variance"
      ],
      "metadata": {
        "colab": {
          "base_uri": "https://localhost:8080/"
        },
        "id": "R_ECPftVRKk1",
        "outputId": "2fabe06b-bcf6-49ee-ff93-b38db1bcce09"
      },
      "execution_count": 7,
      "outputs": [
        {
          "output_type": "execute_result",
          "data": {
            "text/plain": [
              "0.9375"
            ]
          },
          "metadata": {},
          "execution_count": 7
        }
      ]
    },
    {
      "cell_type": "markdown",
      "source": [
        "###Задача 3\n",
        "\n",
        "Пользователь получает в среднем 10 писем со спамом на свой почтовый ящик за сутки. Найти число N, такое, что с вероятностью 0.95 пользователь получит не более N писем со спамом за текущий день."
      ],
      "metadata": {
        "id": "mV5BtsNG_ndJ"
      }
    },
    {
      "cell_type": "markdown",
      "source": [
        "Очевидно, что события описываются распределением Пуассона. Тогда:\n",
        "\n",
        "$λ = 10, P(X \\leq N) = 0.95,$ \n",
        "\n",
        "$P(X \\leq N) = \\displaystyle\\sum_{i = 0}^{N} \\dfrac{λ^{i} e^{-λ}}{i!} = \\displaystyle\\sum_{i = 0}^{N} \\dfrac{10^{i} e^{-10}}{i!},$\n",
        "\n",
        "$\\leq N$ предусматривает получение от $0$ до $N$ писем в день, поэтому необходимо взять сумму вероятностей по каждой дискретной величине писем\n",
        "\n",
        "Решить аналитически затруднительно в вычислительном плане, воспользуемся библиотекой $numpy$:"
      ],
      "metadata": {
        "id": "kzFSmsoONSdT"
      }
    },
    {
      "cell_type": "code",
      "source": [
        "def poisson_proba(k: int, lambda_: float) -> float:\n",
        "    return (lambda_ ** k) * (np.exp(-lambda_)) / np.math.factorial(k)"
      ],
      "metadata": {
        "id": "n1N4DC1B_ff7"
      },
      "execution_count": 8,
      "outputs": []
    },
    {
      "cell_type": "code",
      "source": [
        "probs_sum, n = 0, 0\n",
        "while round(probs_sum, 2) < 0.95:\n",
        "    probs_sum = sum(poisson_proba(k=i, lambda_=10) for i in range(n+1))\n",
        "    n += 1\n",
        "print(f'User will recieve less or equal {n-1} spam letters with probability of {probs_sum:.2f}.')"
      ],
      "metadata": {
        "colab": {
          "base_uri": "https://localhost:8080/"
        },
        "id": "elh-cGsOEr6B",
        "outputId": "b2d497b0-5f48-48e9-82e9-d8ea68b2a565"
      },
      "execution_count": 13,
      "outputs": [
        {
          "output_type": "stream",
          "name": "stdout",
          "text": [
            "User will recieve less or equal 15 spam letters with probability of 0.95.\n"
          ]
        }
      ]
    },
    {
      "cell_type": "markdown",
      "source": [
        "###Задача 4\n",
        "Производятся выстрелы по мишени. Вероятность попадания в мишень при одном выстреле равна $0.01$. Сколько выстрелов нужно сделать чтобы быть уверенным с вероятностью $0.9$, что хотя бы $6$ раз будет совершено попадание?\n",
        "\n",
        "Подсказка: 1) \"Вероятность попасть $k$ раз при $n$ выстрелах\" - на какое распределение это похоже? 2) $А$ если нам нужна вероятность $P(X >= k)$, а не $P(X = k)$? 3) Здесь предстоит немножко покодить."
      ],
      "metadata": {
        "id": "gIQUjz_IQesi"
      }
    },
    {
      "cell_type": "markdown",
      "source": [
        "В связи с тем, что проводимые выстрелы не зависят друг от друга и вероятность попадания в цель (событие $A$) не меняется от выстрела к выстрелу $(P(A) = 0.01)$, здесь применяется биномиальный закон распределения, описываемый формулой Бернулли: $$P(X = k) = C_n^k p^k (1 - p)^{n - k}$$\n",
        "\n",
        "По условиям задачи нам необходимо достичь вероятности $0.9$, что не менее $6$ попаданий в течение $n$ выстрелов придутся в цель. Таким образом, при достаточном количестве значений, принимаемых дискретной величиной $X: \\{6, 7, 8, ..., k\\}$ вероятность $6$ и более попаданий в цель можно записать в виде суммы вероятностей: \n",
        "\n",
        "$$ P(X \\geq k) = \\displaystyle\\sum_{k = 6}^{K} C_n^k p^k (1 - p)^{n - k} = 0.9, где K = \\{6, 7, 8, ... \\}  $$"
      ],
      "metadata": {
        "id": "6Q6nRkAqghTr"
      }
    },
    {
      "cell_type": "code",
      "source": [
        "p = 0.01\n",
        "for n in range(926, 950):\n",
        "    prob_sum = sum(combinations(n, k) * np.power(p, k) * np.power(1-p, n-k) for k in range(6, 926))\n",
        "    if prob_sum >= 0.9:\n",
        "        print(f'It was made {n} shots to achieve probability {prob_sum:.3f} of striking the target at least 6 times')\n",
        "        break"
      ],
      "metadata": {
        "colab": {
          "base_uri": "https://localhost:8080/"
        },
        "id": "9ndhJUiRmBKS",
        "outputId": "da593443-8c20-4305-eb2c-97a66aa9372a"
      },
      "execution_count": 91,
      "outputs": [
        {
          "output_type": "stream",
          "name": "stdout",
          "text": [
            "It was made 926 shots to achieve probability 0.900 of striking the target at least 6 times\n"
          ]
        }
      ]
    },
    {
      "cell_type": "markdown",
      "source": [
        "Для проверки рассмотрим обратную ситуацию. Представим, что мы сделали $n=926$ выстрелов, тогда вероятность того, что за $n$ выстрелов мы попадем цель менее $5$ раз должна составить: $P(X \\geq k) = 1 - P(X \\lt k)$\n",
        "\n",
        "Тогда $P(X \\lt k = 5) = \\displaystyle\\sum_{k = 0}^{5} C_n^k p^k (1 - p)^{n - k} = 0.1$"
      ],
      "metadata": {
        "id": "yLLogYouSHSy"
      }
    },
    {
      "cell_type": "code",
      "source": [
        "N = 926\n",
        "P_ = sum(combinations(N, i) * np.power(p, i) * np.power(1-p, N-i) for i in range(6))\n",
        "round(P_, 3)"
      ],
      "metadata": {
        "colab": {
          "base_uri": "https://localhost:8080/"
        },
        "id": "e2powRcwTjFN",
        "outputId": "d6e882c3-6710-4b09-8374-26205a2b0d27"
      },
      "execution_count": 80,
      "outputs": [
        {
          "output_type": "execute_result",
          "data": {
            "text/plain": [
              "0.1"
            ]
          },
          "metadata": {},
          "execution_count": 80
        }
      ]
    },
    {
      "cell_type": "code",
      "source": [
        "prob_sum + P_"
      ],
      "metadata": {
        "colab": {
          "base_uri": "https://localhost:8080/"
        },
        "id": "-vkJR7K_XR8T",
        "outputId": "90034df9-0194-4e05-9d24-e1c7eea9bce7"
      },
      "execution_count": 81,
      "outputs": [
        {
          "output_type": "execute_result",
          "data": {
            "text/plain": [
              "0.999999999999992"
            ]
          },
          "metadata": {},
          "execution_count": 81
        }
      ]
    },
    {
      "cell_type": "markdown",
      "source": [
        "Ответ $925$ красивее, чем $926$, но при $925$ выстрелах вероятность при $k \\geq 6$ не дотягивает до $0.9$ на пару десятитысячных. И напротив, для $k < 6$ вероятность незначительно превосходит $0.1$"
      ],
      "metadata": {
        "id": "LtX9SViUabUl"
      }
    }
  ]
}