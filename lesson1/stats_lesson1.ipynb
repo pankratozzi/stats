{
  "nbformat": 4,
  "nbformat_minor": 0,
  "metadata": {
    "colab": {
      "name": "stats_lesson1.ipynb",
      "provenance": [],
      "collapsed_sections": []
    },
    "kernelspec": {
      "name": "python3",
      "display_name": "Python 3"
    },
    "language_info": {
      "name": "python"
    }
  },
  "cells": [
    {
      "cell_type": "markdown",
      "source": [
        "###Домашнее задание\n",
        "#### №1\n",
        "Имеется колода в 52 карты. Найти число возможностей вытянуть из неё 4 карты так, чтобы среди них был хотя бы один туз."
      ],
      "metadata": {
        "id": "qxwPEJ98zWca"
      }
    },
    {
      "cell_type": "markdown",
      "source": [
        "Найдем все возможные исходы: $C_{52}^4$\n",
        "\n",
        "Найдем все исходы, когда были вытянуты не тузы: $C_{48}^4$\n",
        "\n",
        "Решением будет разность $C_{52}^4 - C_{48}^4$\n",
        "\n",
        "Так как порядок, в котором вытягиваются карты не важен, то воспользуемся формулой для сочетаний: $C_{n}^k = \\dfrac{n!}{k!\\cdot(n - k)!}$\n",
        "\n",
        "$C_{52}^4 = \\dfrac{52!}{4!\\cdot48!}$\n",
        "\n",
        "$C_{48}^4 = \\dfrac{48!}{4!\\cdot44!}$\n",
        "\n",
        "Так как вычисления громоздкие, воспользуемся функцией, предоставленной на уроке."
      ],
      "metadata": {
        "id": "dkIg87c5AtaF"
      }
    },
    {
      "cell_type": "code",
      "source": [
        "import numpy as np\n",
        "\n",
        "def combinations(n: int, k: int) -> int:\n",
        "    return np.math.factorial(n) // (np.math.factorial(k) * np.math.factorial(n - k))"
      ],
      "metadata": {
        "id": "pybETYh9KP3V"
      },
      "execution_count": 27,
      "outputs": []
    },
    {
      "cell_type": "code",
      "source": [
        "combinations(52, 4) - combinations(48, 4)"
      ],
      "metadata": {
        "colab": {
          "base_uri": "https://localhost:8080/"
        },
        "id": "PTiWQbq1Ka56",
        "outputId": "799f1ecd-6479-4848-b8ef-f7632719a996"
      },
      "execution_count": 28,
      "outputs": [
        {
          "output_type": "execute_result",
          "data": {
            "text/plain": [
              "76145"
            ]
          },
          "metadata": {},
          "execution_count": 28
        }
      ]
    },
    {
      "cell_type": "markdown",
      "source": [
        "#### №2, 3\n",
        "Из 60 вопросов, входящих в экзаменационные билеты, студент знает 50. Случайным образом студент вытягивает 3 вопроса. Какова вероятность, что все выбранные вопросы знакомы студенту? Какова вероятность что два из трёх вопросов знакомы студенту?\n",
        "\n"
      ],
      "metadata": {
        "id": "KVStrsqTAtjZ"
      }
    },
    {
      "cell_type": "markdown",
      "source": [
        "$50$ вопросов - благоприятные исходы;\n",
        "\n",
        "$60$ вопросов - всего;\n",
        "\n",
        "$3$ вопроса вытягиваются произвольным образом.\n",
        "\n",
        "Тогда вероятность вытянуть только хорошие билеты в общем виде: $P = \\dfrac{m}{n}$, где $m$ - число благоприятных исходов (элементарных событий), а $n$ - общее число исходов\n",
        "\n",
        "$m = C_{50}^3, n = C_{60}^3$\n",
        "\n",
        "Воспользуемся формулой для сочетаний: $C_{n}^k = \\dfrac{n!}{k!\\cdot(n - k)!}$\n",
        "\n",
        "$P = \\dfrac{C_{50}^3}{C_{60}^3} = \\frac{50! \\cdot 3! \\cdot 57!}{3! \\cdot47! \\cdot 60!} \\approx 0.5728$\n",
        "\n",
        "Вероятность, что студент ***одновременно*** выятнет $2$ хороших и $1$ один плохой билет:\n",
        "\n",
        "$P = \\dfrac{C_{50}^2 \\cdot C_{10}^1}{C_{60}^3} = \\dfrac{50! \\cdot 10! \\cdot 3! \\cdot 57!}{2 \\cdot 48! \\cdot 9! \\cdot 60!} \\approx 0.358$"
      ],
      "metadata": {
        "id": "8aZa7IlXLWps"
      }
    },
    {
      "cell_type": "code",
      "source": [
        "combinations(50, 3) / combinations(60, 3) # first question"
      ],
      "metadata": {
        "colab": {
          "base_uri": "https://localhost:8080/"
        },
        "id": "mz0B1RbRPREx",
        "outputId": "9c98f3bd-960a-4094-a28b-501bf4a79d41"
      },
      "execution_count": 29,
      "outputs": [
        {
          "output_type": "execute_result",
          "data": {
            "text/plain": [
              "0.5727644652250146"
            ]
          },
          "metadata": {},
          "execution_count": 29
        }
      ]
    },
    {
      "cell_type": "code",
      "source": [
        "combinations(50,2) * combinations(10,1) / combinations(60,3) # second question"
      ],
      "metadata": {
        "colab": {
          "base_uri": "https://localhost:8080/"
        },
        "id": "Tb5gSCToQLKi",
        "outputId": "be175973-a0a4-40d4-c595-21b7a45baf00"
      },
      "execution_count": 30,
      "outputs": [
        {
          "output_type": "execute_result",
          "data": {
            "text/plain": [
              "0.35797779076563413"
            ]
          },
          "metadata": {},
          "execution_count": 30
        }
      ]
    },
    {
      "cell_type": "markdown",
      "source": [
        "#### №4\n",
        "Допустим, имеется некоторая очень редкая болезнь (поражает 0.1% населения). Вы приходите к врачу, вам делают тест на эту болезнь, и тест оказывается положительным. Врач говорит вам, что этот тест верно выявляет 99% больных этой болезнью и всего лишь в 1% случаев даёт ложный положительный ответ.\n",
        "\n",
        "Вопрос: какова вероятность, что вы действительно больны ей?\n",
        "\n",
        "Подсказка: используйте формулу Байеса с раскрытием знаменателя с помощью формулы полной вероятности."
      ],
      "metadata": {
        "id": "neafgK9GOnnq"
      }
    },
    {
      "cell_type": "markdown",
      "source": [
        "Сначала определим основные события:\n",
        "\n",
        "$A$ - человек заболел\n",
        "\n",
        "$B$ - тест на наличие болезни положительный\n",
        "\n",
        "Для решения применим формулу Байеса:\n",
        "\n",
        "$P(A|B) = \\frac{P(B|A) \\cdot P(A)}{P(B)}$\n",
        "\n",
        "$P(A) = 0.001$ - так как вероятность заболеть этой болезнью 0.1 % (условие задачи)\n",
        "\n",
        "$P(B|A) = 0.99$ - так как вероятность получить положительный тест при наличии реального заболевания 99% (условие задачи)\n",
        "\n",
        "Для $P(B)$ необходимо воспользоваться формулой полной вероятности для двух произвольных событий:\n",
        "\n",
        "$P(B) = P(B|A) \\cdot P(A) + P(B|\\overline A) \\cdot P(\\overline A)$ - то есть вероятность получить положительный тест при наличии реального заболевания \\* вероятность заболеть + вероятность получить положительный тест при отсутствии заболевания \\* вероятность не заболеть\n",
        "\n",
        "$P(B) = 0.99 \\cdot 0.001 + 0.01 \\cdot 0.999 = 0.01098$\n",
        "\n",
        "Таким образом: \n",
        "\n",
        "$P(A|B) = \\dfrac{0.99 \\cdot 0.001}{0.01098} \\approx 0.0902$"
      ],
      "metadata": {
        "id": "73n9x2_tQn5s"
      }
    },
    {
      "cell_type": "code",
      "source": [
        "0.99 * 0.001 / 0.01098"
      ],
      "metadata": {
        "colab": {
          "base_uri": "https://localhost:8080/"
        },
        "id": "DLGNQY1DVcNh",
        "outputId": "ef991797-d51a-40af-9cc8-5ce7ee85b91e"
      },
      "execution_count": 31,
      "outputs": [
        {
          "output_type": "execute_result",
          "data": {
            "text/plain": [
              "0.09016393442622951"
            ]
          },
          "metadata": {},
          "execution_count": 31
        }
      ]
    },
    {
      "cell_type": "markdown",
      "source": [
        "###Дополнительное задание\n",
        "#### №1\n",
        "Подбрасываются три игральных кубика. Оцените вероятность того, что сумма значений этих кубиков не будет превышать 6.\n",
        "\n",
        "_Подсказка_: оценкой вероятности может служить, например, относительная частота при большом числе опытов. Попробуйте реализовать наибольшее число опытов, которое позволяют ваш компьютер и/или ваше терпение."
      ],
      "metadata": {
        "id": "CLOCzA3LApDa"
      }
    },
    {
      "cell_type": "code",
      "source": [
        "import numpy as np\n",
        "import matplotlib.pyplot as plt\n",
        "from tqdm import trange"
      ],
      "metadata": {
        "id": "Y2BrtqKDzmL7"
      },
      "execution_count": 7,
      "outputs": []
    },
    {
      "cell_type": "code",
      "source": [
        "n_experiments = np.power(10, 6)  # not very much patience\n",
        "\n",
        "arr = np.random.randint(1, 7, size=(n_experiments, 3))\n",
        "\n",
        "frequency = (np.sum(arr, axis=1) <= 6).sum() / n_experiments\n",
        "\n",
        "print(f'Approximate probability: {frequency:.4f}')"
      ],
      "metadata": {
        "colab": {
          "base_uri": "https://localhost:8080/"
        },
        "id": "BhT9xVQozphZ",
        "outputId": "b0b15878-2be2-40f3-8626-c9a5370a9378"
      },
      "execution_count": 2,
      "outputs": [
        {
          "output_type": "stream",
          "name": "stdout",
          "text": [
            "Approximate probability: 0.0928\n"
          ]
        }
      ]
    },
    {
      "cell_type": "code",
      "source": [
        "# function from lesson_1\n",
        "def dice_frequency(n: int) -> float:\n",
        "    b = np.random.randint(1, 7, size=(n, 3))\n",
        "    m = (np.sum(b, axis=1) <= 6).sum()\n",
        "    return m / n"
      ],
      "metadata": {
        "colab": {
          "base_uri": "https://localhost:8080/"
        },
        "id": "H0xh91z62Jw9",
        "outputId": "fb0bfff1-de98-4b3b-c0b2-f00fe28aa048"
      },
      "execution_count": 6,
      "outputs": [
        {
          "output_type": "execute_result",
          "data": {
            "text/plain": [
              "0.0926382"
            ]
          },
          "metadata": {},
          "execution_count": 6
        }
      ]
    },
    {
      "cell_type": "code",
      "source": [
        "points = [10, 10**2, 10**3, 10**4, 10**5, 10**6, 10**7]\n",
        "\n",
        "x, y = np.array([]), np.array([])\n",
        "\n",
        "for _ in trange(50):\n",
        "    for n in points:\n",
        "        x = np.append(x, n)\n",
        "        y = np.append(y, dice_frequency(n))"
      ],
      "metadata": {
        "colab": {
          "base_uri": "https://localhost:8080/"
        },
        "id": "H14U_j8Y-jJN",
        "outputId": "6e86f6fc-f62b-4709-f588-9cb809b1e7ff"
      },
      "execution_count": 9,
      "outputs": [
        {
          "output_type": "stream",
          "name": "stderr",
          "text": [
            "100%|██████████| 50/50 [00:30<00:00,  1.62it/s]\n"
          ]
        }
      ]
    },
    {
      "cell_type": "code",
      "source": [
        "plt.figure(figsize=(10, 8))\n",
        "plt.scatter(x, y, s=30, c='red', edgecolor='black', alpha=0.6)\n",
        "plt.axhline(y=0.0925925, c='green', linestyle=':', label='True Probability')\n",
        "plt.xscale('log')\n",
        "plt.annotate('True probability', (points[-1], 0.0925925), bbox=dict(boxstyle='round,pad=0.2', fc='yellow', alpha=0.3),\n",
        "             xytext=(10**5, 0.0925925+0.15), arrowprops = dict(facecolor ='green', alpha=0.6, arrowstyle=\"-|>\", connectionstyle=\"arc3,rad=0.2\"))\n",
        "plt.title('frequency of the sum being 6')\n",
        "plt.xlabel('Number of experiments')\n",
        "plt.ylabel('Frequency of sum=6')\n",
        "plt.grid()\n",
        "plt.legend(loc='best')\n",
        "plt.show()"
      ],
      "metadata": {
        "colab": {
          "base_uri": "https://localhost:8080/",
          "height": 517
        },
        "id": "o3JD5YXA1Sco",
        "outputId": "e71c8acd-c7f2-403d-c470-c78d6d91c332"
      },
      "execution_count": 26,
      "outputs": [
        {
          "output_type": "display_data",
          "data": {
            "image/png": "[encoded data removed]",
            "text/plain": [
              "<Figure size 720x576 with 1 Axes>"
            ]
          },
          "metadata": {
            "needs_background": "light"
          }
        }
      ]
    },
    {
      "cell_type": "markdown",
      "source": [
        "#### №2\n",
        "Бросается игральная кость. Пусть событие `A` - появление чётного числа, событие `B` - появление числа больше трёх. Являются ли эти события независимыми? Почему?"
      ],
      "metadata": {
        "id": "0dOqXXdwAwUa"
      }
    },
    {
      "cell_type": "markdown",
      "source": [
        "####Решение\n",
        "Событие `A` - появление чётного числа\n",
        "Событие `B` - появление числа больше трёх.\n",
        "\n",
        "Предположим, что события независимы. Тогда должно выполняться равенство (для независимых событий): $P(A|B) = P(A)$.\n",
        "\n",
        "Для числа меньше $3$ возможно только одно четное значение: $2$. Для числа больше $3$ возможны четные значения $4$ и $6$. Тогда логично предположить, что вероятность $P(A|B)$, что выпавшее число будет четным при условии, что произошло событие $B$ (выпало число больше $3$) будет равно $\\dfrac{2}{3}$ (вероятность выбрать одно четное число среди одного нечетного и двух четных).\n",
        "$P(A) = \\dfrac{1}{2}$, ($P = \\dfrac{m}{n}$, где $m = 3$, $n = 6$)\n",
        "\n",
        "$P(A|B) = \\dfrac{2}{3} \\neq P(A)$\n",
        "\n",
        "Следовательно, события $A$ и $B$ зависимы.\n"
      ],
      "metadata": {
        "id": "i5Ov6fiyA-kJ"
      }
    }
  ]
}