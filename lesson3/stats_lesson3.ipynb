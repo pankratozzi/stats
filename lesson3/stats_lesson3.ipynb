{
  "nbformat": 4,
  "nbformat_minor": 0,
  "metadata": {
    "colab": {
      "name": "stats_lesson3.ipynb",
      "provenance": [],
      "collapsed_sections": []
    },
    "kernelspec": {
      "name": "python3",
      "display_name": "Python 3"
    },
    "language_info": {
      "name": "python"
    }
  },
  "cells": [
    {
      "cell_type": "markdown",
      "source": [
        "__Задача 1__\n",
        "\n",
        "Даны значения зарплат из выборки выпускников: \n",
        "```\n",
        "100, 80, 75, 77, 89, 33, 45, 25, 65, 17, 30, 230, 24, 57, 55, 70, 75, 65, 84, 90, 150\n",
        "```\n",
        "Используя только встроенные питоновские функции и структуры данных (т.е. без библиотек `numpy`, `pandas` и др.), посчитайте (несмещённое) среднее квадратичное отклонение для данной выборки."
      ],
      "metadata": {
        "id": "LOtst7KyNc8d"
      }
    },
    {
      "cell_type": "markdown",
      "source": [
        "Несмещенное среднее квадратическое отклонение для заданной выборки вычисляется по формуле: $$\\sigma_X = \\sqrt{\\dfrac{1}{n - 1} \\displaystyle\\sum_{i = 1}^n \\left( x_i - \\overline{X} \\right)^2}$$"
      ],
      "metadata": {
        "id": "k1um1-dhNerg"
      }
    },
    {
      "cell_type": "code",
      "source": [
        "array = [100, 80, 75, 77, 89, 33, 45, 25, 65, 17, 30, 230, 24, 57, 55, 70, 75, 65, 84, 90, 150]\n",
        "def array_std(array: list) -> float:\n",
        "    mean = sum(array) / len(array)\n",
        "    s = 0\n",
        "    for x in array:\n",
        "        s += (x - mean) ** 2\n",
        "    std = (s / (len(array) - 1))**0.5\n",
        "    return std\n",
        "    \n",
        "array_std(array)"
      ],
      "metadata": {
        "colab": {
          "base_uri": "https://localhost:8080/"
        },
        "id": "hGtwou_GNe9q",
        "outputId": "8513afb8-15b9-464c-ca8c-9dd0fc8e55ac"
      },
      "execution_count": 1,
      "outputs": [
        {
          "output_type": "execute_result",
          "data": {
            "text/plain": [
              "47.34795213553139"
            ]
          },
          "metadata": {},
          "execution_count": 1
        }
      ]
    },
    {
      "cell_type": "code",
      "source": [
        "# check the answer\n",
        "import numpy as np\n",
        "\n",
        "arr = np.asarray(array)\n",
        "arr.std(ddof=1)  # 1 degree of freedom added"
      ],
      "metadata": {
        "colab": {
          "base_uri": "https://localhost:8080/"
        },
        "id": "0GOXyueLPKA3",
        "outputId": "8230ec7c-1074-4c92-b934-9fb9e573f453"
      },
      "execution_count": 2,
      "outputs": [
        {
          "output_type": "execute_result",
          "data": {
            "text/plain": [
              "47.347952135531386"
            ]
          },
          "metadata": {},
          "execution_count": 2
        }
      ]
    },
    {
      "cell_type": "markdown",
      "source": [
        "__Задача 2__\n",
        "\n",
        "Найдите число выбросов в выборке из задачи 1. Для определения выбросов используйте методику как при построении \"усов\" в `boxplot`, однако, как и в задаче 1, пользоваться можно только встроенными функциями и структурами данных."
      ],
      "metadata": {
        "id": "0wwdYMvhPyTd"
      }
    },
    {
      "cell_type": "markdown",
      "source": [
        "Для решения задачи нам потребуется найти квартили, интерквартильный размах"
      ],
      "metadata": {
        "id": "sLY_X3PIP8uS"
      }
    },
    {
      "cell_type": "code",
      "source": [
        "def quantile(array: list, q: float) -> float:\n",
        "    def ratio(arr: list, q: float) -> float:\n",
        "        sum_arr_lower = sum([1 for i in range(len(arr)) if arr[i] <= q]) / len(arr)\n",
        "        sum_arr_upper = sum([1 for i in range(len(arr)) if arr[i] >= q]) / len(arr)\n",
        "        return sum_arr_lower, sum_arr_upper\n",
        "    assert q <= 1, 'Set q <= 1'\n",
        "    arr = sorted(array)\n",
        "    length = len(arr)\n",
        "    num_left_elems, num_right_elems = int(q * length), int((1-q) * length) # takes int part and drops all after comma\n",
        "    if num_left_elems + num_right_elems == length:  # the quantile lies between two values, that separate the list\n",
        "        qnt = (arr[num_left_elems - 1] + arr[num_left_elems]) / 2\n",
        "        lower, upper = ratio(arr=arr, q=qnt)\n",
        "        print(f'lower bound: {lower:.3f}, upper bound: {upper:.3f}')\n",
        "        return qnt\n",
        "    else:  # the quantile is the element from the given list\n",
        "        qnt = arr[num_left_elems]\n",
        "        lower, upper = ratio(arr=arr, q=qnt)\n",
        "        print(f'lower bound: {lower:.3f}, upper bound: {upper:.3f}')        \n",
        "        return qnt"
      ],
      "metadata": {
        "id": "viK15Y1WP2G7"
      },
      "execution_count": 59,
      "outputs": []
    },
    {
      "cell_type": "code",
      "source": [
        "for q in [0.25, 0.5, 0.75]:\n",
        "    print(f'Quantile {q} = {quantile(array, q)}')"
      ],
      "metadata": {
        "colab": {
          "base_uri": "https://localhost:8080/"
        },
        "id": "w23jgXwUTNgM",
        "outputId": "86b68f0b-b277-4c48-99d9-fa635923bbb3"
      },
      "execution_count": 60,
      "outputs": [
        {
          "output_type": "stream",
          "name": "stdout",
          "text": [
            "lower bound: 0.286, upper bound: 0.762\n",
            "Quantile 0.25 = 45\n",
            "lower bound: 0.524, upper bound: 0.524\n",
            "Quantile 0.5 = 70\n",
            "lower bound: 0.762, upper bound: 0.286\n",
            "Quantile 0.75 = 84\n"
          ]
        }
      ]
    },
    {
      "cell_type": "code",
      "source": [
        "import pandas as pd\n",
        "df = pd.DataFrame(array, columns=['values'])\n",
        "df['values'].quantile([0.25, 0.5, 0.75])"
      ],
      "metadata": {
        "colab": {
          "base_uri": "https://localhost:8080/"
        },
        "id": "a-RCq1XXS78K",
        "outputId": "3d299527-a196-4b8a-ac47-d2c79e25c6d9"
      },
      "execution_count": 33,
      "outputs": [
        {
          "output_type": "execute_result",
          "data": {
            "text/plain": [
              "0.25    45.0\n",
              "0.50    70.0\n",
              "0.75    84.0\n",
              "Name: values, dtype: float64"
            ]
          },
          "metadata": {},
          "execution_count": 33
        }
      ]
    },
    {
      "cell_type": "code",
      "source": [
        "q1, q3 = quantile(array, 0.25), quantile(array, 0.75)\n",
        "iqr = q3 - q1\n",
        "lower_bound = q1 - 1.5 * iqr\n",
        "upper_bound = q3 + 1.5 * iqr\n",
        "sum([1 for x in array if x > upper_bound or x < lower_bound])"
      ],
      "metadata": {
        "colab": {
          "base_uri": "https://localhost:8080/"
        },
        "id": "dPVjX4grBzMU",
        "outputId": "5ef0b489-2385-47ee-c48d-a931fe1e1348"
      },
      "execution_count": 72,
      "outputs": [
        {
          "output_type": "stream",
          "name": "stdout",
          "text": [
            "lower bound: 0.286, upper bound: 0.762\n",
            "lower bound: 0.762, upper bound: 0.286\n"
          ]
        },
        {
          "output_type": "execute_result",
          "data": {
            "text/plain": [
              "2"
            ]
          },
          "metadata": {},
          "execution_count": 72
        }
      ]
    },
    {
      "cell_type": "code",
      "source": [
        "vals = [x for x in array if x > upper_bound or x < lower_bound]"
      ],
      "metadata": {
        "id": "ItdZw4siFCG_"
      },
      "execution_count": 74,
      "outputs": []
    },
    {
      "cell_type": "code",
      "source": [
        "import matplotlib.pyplot as plt\n",
        "import seaborn as sns\n",
        "\n",
        "plt.figure(figsize=(8,6))\n",
        "sns.boxplot(data=array)\n",
        "plt.axhline(vals[0], c='r', ls='--', label=f'Outlier = {vals[0]}')\n",
        "plt.axhline(vals[1], c='r', ls='--', label=f'Outlier = {vals[1]}')\n",
        "plt.title('Outliers')\n",
        "plt.legend(loc='upper right')\n",
        "plt.show()"
      ],
      "metadata": {
        "colab": {
          "base_uri": "https://localhost:8080/",
          "height": 390
        },
        "id": "DOvqQvI8Ze_V",
        "outputId": "ef5c5057-756b-42cd-cd42-3c2e591bc695"
      },
      "execution_count": 78,
      "outputs": [
        {
          "output_type": "display_data",
          "data": {
            "image/png": "[encoded data removed]",
            "text/plain": [
              "<Figure size 576x432 with 1 Axes>"
            ]
          },
          "metadata": {
            "needs_background": "light"
          }
        }
      ]
    },
    {
      "cell_type": "markdown",
      "source": [
        "__Задача 3__\n",
        "\n",
        "В университет на факультет A поступило 100 человек, на факультет B - 90 человек и на факультет C - 45 человек. Вероятность того, что студент с факультета A сдаст первую сессию, равна 0.6. Для студента с факультета B эта вероятность равна 0.7, а для студента с факультета C - 0.8. Случайным образом выбирается студент, сдавший первую сессию. Какое событие наиболее вероятно:\n",
        "1. студент учится на факультете A,\n",
        "2. студент учится на факультете B,\n",
        "3. студент учится на факультете C?"
      ],
      "metadata": {
        "id": "pWQhrZb1F1YL"
      }
    },
    {
      "cell_type": "markdown",
      "source": [
        "Пусть событие $D$ - сессия сдана одним студентом, $E_i$ - студент учится на $i$-ом факультете. Всего учащихся - $235$ человек.\n",
        "\n",
        "Тогда $P(E_i|D) = \\dfrac{P(D|E_i) \\cdot P(E_i)}{P(D)} - $ вероятность, что сессия сдана студентом, учащимся на $i$-ом факультете в соответствии с формулой Байеса.\n",
        "\n",
        "Вероятности случайного выбора студента с факультетов: $P(E_1) = \\dfrac{100}{235}, P(E_2) = \\dfrac{90}{235}, P(E_3) = \\dfrac{45}{235}$\n",
        "\n",
        "Вероятности, что сессия будет сдана при условии того, что студент учится на $i$-ом факультете: $P(D|E_1) = 0.6, P(D|E_2) = 0.7, P(D|E_3) = 0.8$\n",
        "\n",
        "Найдем вероятность сдачи сессии случайно выбранным студентом по формуле полной вероятности: $P(D) = P(D|E_1) \\cdot P(E_1) + P(D|E_2) \\cdot P(E_2) + P(D|E_3) \\cdot P(E_3)$\n",
        "\n",
        "Все величины для нахождения вероятностей того, что сессия будет сдана случайно выбранным студентом, учащимся на $i$-ом факультете найдены. Для вычислений воспользуемся $python$."
      ],
      "metadata": {
        "id": "N-vfYqgzF5XY"
      }
    },
    {
      "cell_type": "code",
      "source": [
        "p_e1, p_e2, p_e3 = 100 / 235, 90 / 235, 45 / 235\n",
        "p_de1, p_de2, p_de3 = 0.6, 0.7, 0.8"
      ],
      "metadata": {
        "id": "D7YXHFt9ZLzH"
      },
      "execution_count": 20,
      "outputs": []
    },
    {
      "cell_type": "code",
      "source": [
        "p_e1, p_e2, p_e3"
      ],
      "metadata": {
        "colab": {
          "base_uri": "https://localhost:8080/"
        },
        "id": "kHvvbNMGbJhd",
        "outputId": "61e131b4-da89-481f-b04f-5440fee3266c"
      },
      "execution_count": 21,
      "outputs": [
        {
          "output_type": "execute_result",
          "data": {
            "text/plain": [
              "(0.425531914893617, 0.3829787234042553, 0.19148936170212766)"
            ]
          },
          "metadata": {},
          "execution_count": 21
        }
      ]
    },
    {
      "cell_type": "code",
      "source": [
        "p_d = p_e1 * p_de1 + p_e2 * p_de2 + p_e3 * p_de3\n",
        "p_d"
      ],
      "metadata": {
        "colab": {
          "base_uri": "https://localhost:8080/"
        },
        "id": "cmQ7mSKCaoGK",
        "outputId": "8a790824-fa89-44dd-e4b3-cf6982bee3fc"
      },
      "execution_count": 22,
      "outputs": [
        {
          "output_type": "execute_result",
          "data": {
            "text/plain": [
              "0.676595744680851"
            ]
          },
          "metadata": {},
          "execution_count": 22
        }
      ]
    },
    {
      "cell_type": "code",
      "source": [
        "p_ed1 = p_de1 * p_e1 / p_d\n",
        "p_ed2 = p_de2 * p_e2 / p_d\n",
        "p_ed3 = p_de3 * p_e3 / p_d"
      ],
      "metadata": {
        "id": "jYOEEF4waJj-"
      },
      "execution_count": 23,
      "outputs": []
    },
    {
      "cell_type": "code",
      "source": [
        "for i, prob in enumerate([p_ed1, p_ed2, p_ed3], 1):\n",
        "    print(f'Probablity that student studies on {i} faculty is: {prob:.4f}')"
      ],
      "metadata": {
        "colab": {
          "base_uri": "https://localhost:8080/"
        },
        "id": "beLxlyA_Z5A5",
        "outputId": "c0b72ef2-722e-4e7a-a645-d968989926d4"
      },
      "execution_count": 24,
      "outputs": [
        {
          "output_type": "stream",
          "name": "stdout",
          "text": [
            "Probablity that student studies on 1 faculty is: 0.3774\n",
            "Probablity that student studies on 2 faculty is: 0.3962\n",
            "Probablity that student studies on 3 faculty is: 0.2264\n"
          ]
        }
      ]
    },
    {
      "cell_type": "code",
      "source": [
        "sum([p_ed1, p_ed2, p_ed3])"
      ],
      "metadata": {
        "colab": {
          "base_uri": "https://localhost:8080/"
        },
        "id": "-iLHAk27eCYl",
        "outputId": "f1934b90-df72-4444-eddd-6448b08f1512"
      },
      "execution_count": 14,
      "outputs": [
        {
          "output_type": "execute_result",
          "data": {
            "text/plain": [
              "1.0"
            ]
          },
          "metadata": {},
          "execution_count": 14
        }
      ]
    }
  ]
}